{
 "cells": [
  {
   "cell_type": "code",
   "execution_count": 2,
   "id": "b9e602bd",
   "metadata": {},
   "outputs": [],
   "source": [
    "import requests\n",
    "import json"
   ]
  },
  {
   "cell_type": "markdown",
   "id": "0a020786",
   "metadata": {},
   "source": [
    "# Define pulls from api"
   ]
  },
  {
   "cell_type": "code",
   "execution_count": 5,
   "id": "2bc0a658",
   "metadata": {},
   "outputs": [],
   "source": [
    "# gateway list\n",
    "gateway_list_api = requests.get(\"http://localhost:8080/api/v1/structure/gateway/list\")\n",
    "\n",
    "# specific gateway\n",
    "g_id = None\n",
    "gateway_api = requests.get(f\"http://localhost:8080/api/v1/structure/tag/list/{g_id}\")"
   ]
  },
  {
   "cell_type": "code",
   "execution_count": 6,
   "id": "ffd5185b",
   "metadata": {},
   "outputs": [
    {
     "data": {
      "text/plain": [
       "200"
      ]
     },
     "execution_count": 6,
     "metadata": {},
     "output_type": "execute_result"
    }
   ],
   "source": [
    "gateway_list_api.status_code"
   ]
  },
  {
   "cell_type": "markdown",
   "id": "61d39308",
   "metadata": {},
   "source": [
    "## Gateway list"
   ]
  },
  {
   "cell_type": "code",
   "execution_count": 8,
   "id": "87518664",
   "metadata": {},
   "outputs": [
    {
     "data": {
      "text/plain": [
       "dict_keys(['gateways'])"
      ]
     },
     "execution_count": 8,
     "metadata": {},
     "output_type": "execute_result"
    }
   ],
   "source": [
    "gateway_list: dict = json.loads(gateway_list_api.text)\n",
    "gateway_list.keys()"
   ]
  },
  {
   "cell_type": "code",
   "execution_count": 11,
   "id": "31881291",
   "metadata": {},
   "outputs": [
    {
     "data": {
      "text/plain": [
       "[{'network_segment': 0,\n",
       "  'last_contact': '2023-09-03T11:34:27.3154321Z',\n",
       "  'online': True,\n",
       "  'ip_address': '10.0.0.191',\n",
       "  'id': '31302e302e302e313931d41d8cd98f00b204e9800998ecf8427e'},\n",
       " {'network_segment': 2,\n",
       "  'last_contact': '2023-09-03T11:34:27.3154492Z',\n",
       "  'online': True,\n",
       "  'ip_address': '10.0.2.250',\n",
       "  'id': '31302e302e322e323530d41d8cd98f00b204e9800998ecf8427e'},\n",
       " {'network_segment': 2,\n",
       "  'last_contact': '2023-09-03T11:34:27.422962Z',\n",
       "  'online': True,\n",
       "  'ip_address': '10.0.2.242',\n",
       "  'id': '31302e302e322e323432d41d8cd98f00b204e9800998ecf8427e'},\n",
       " {'network_segment': 0,\n",
       "  'last_contact': '2023-09-03T11:34:27.6242798Z',\n",
       "  'online': True,\n",
       "  'ip_address': '10.0.0.106',\n",
       "  'id': '31302e302e302e313036d41d8cd98f00b204e9800998ecf8427e'},\n",
       " {'network_segment': 2,\n",
       "  'last_contact': '2023-09-03T11:34:27.8395145Z',\n",
       "  'online': True,\n",
       "  'ip_address': '10.0.2.9',\n",
       "  'id': '31302e302e322e39d41d8cd98f00b204e9800998ecf8427e'},\n",
       " {'network_segment': 2,\n",
       "  'last_contact': '2023-09-03T11:34:27.8757935Z',\n",
       "  'online': True,\n",
       "  'ip_address': '10.0.2.230',\n",
       "  'id': '31302e302e322e323330d41d8cd98f00b204e9800998ecf8427e'},\n",
       " {'network_segment': 2,\n",
       "  'last_contact': '2023-09-03T11:34:28.0182854Z',\n",
       "  'online': True,\n",
       "  'ip_address': '10.0.2.86',\n",
       "  'id': '31302e302e322e3836d41d8cd98f00b204e9800998ecf8427e'},\n",
       " {'network_segment': 4,\n",
       "  'last_contact': '2023-09-03T11:34:28.0362802Z',\n",
       "  'online': True,\n",
       "  'ip_address': '10.0.4.27',\n",
       "  'id': '31302e302e342e3237d41d8cd98f00b204e9800998ecf8427e'},\n",
       " {'network_segment': 3,\n",
       "  'last_contact': '2023-09-03T11:34:25.8242074Z',\n",
       "  'online': True,\n",
       "  'ip_address': '10.0.3.201',\n",
       "  'id': '31302e302e332e323031d41d8cd98f00b204e9800998ecf8427e'},\n",
       " {'network_segment': 2,\n",
       "  'last_contact': '2023-09-03T11:34:25.9842256Z',\n",
       "  'online': True,\n",
       "  'ip_address': '10.0.2.162',\n",
       "  'id': '31302e302e322e313632d41d8cd98f00b204e9800998ecf8427e'},\n",
       " {'network_segment': 1,\n",
       "  'last_contact': '2023-09-03T11:34:26.0912075Z',\n",
       "  'online': True,\n",
       "  'ip_address': '10.0.1.154',\n",
       "  'id': '31302e302e312e313534d41d8cd98f00b204e9800998ecf8427e'},\n",
       " {'network_segment': 3,\n",
       "  'last_contact': '2023-09-03T11:34:26.2158281Z',\n",
       "  'online': True,\n",
       "  'ip_address': '10.0.3.148',\n",
       "  'id': '31302e302e332e313438d41d8cd98f00b204e9800998ecf8427e'},\n",
       " {'network_segment': 4,\n",
       "  'last_contact': '2023-09-03T11:34:26.3577286Z',\n",
       "  'online': True,\n",
       "  'ip_address': '10.0.4.175',\n",
       "  'id': '31302e302e342e313735d41d8cd98f00b204e9800998ecf8427e'},\n",
       " {'network_segment': 4,\n",
       "  'last_contact': '2023-09-03T11:34:26.5706458Z',\n",
       "  'online': True,\n",
       "  'ip_address': '10.0.4.50',\n",
       "  'id': '31302e302e342e3530d41d8cd98f00b204e9800998ecf8427e'},\n",
       " {'network_segment': 1,\n",
       "  'last_contact': '2023-09-03T11:34:26.6956586Z',\n",
       "  'online': True,\n",
       "  'ip_address': '10.0.1.23',\n",
       "  'id': '31302e302e312e3233d41d8cd98f00b204e9800998ecf8427e'},\n",
       " {'network_segment': 0,\n",
       "  'last_contact': '2023-09-03T10:52:56.1370102Z',\n",
       "  'online': False,\n",
       "  'ip_address': '10.0.0.65',\n",
       "  'id': '31302e302e302e3635d41d8cd98f00b204e9800998ecf8427e'},\n",
       " {'network_segment': 3,\n",
       "  'last_contact': '2023-09-03T11:34:26.6956978Z',\n",
       "  'online': True,\n",
       "  'ip_address': '10.0.3.237',\n",
       "  'id': '31302e302e332e323337d41d8cd98f00b204e9800998ecf8427e'},\n",
       " {'network_segment': 0,\n",
       "  'last_contact': '2023-09-03T10:52:56.1372179Z',\n",
       "  'online': False,\n",
       "  'ip_address': '10.0.0.48',\n",
       "  'id': '31302e302e302e3438d41d8cd98f00b204e9800998ecf8427e'},\n",
       " {'network_segment': 2,\n",
       "  'last_contact': '2023-09-03T11:34:26.8906244Z',\n",
       "  'online': True,\n",
       "  'ip_address': '10.0.2.117',\n",
       "  'id': '31302e302e322e313137d41d8cd98f00b204e9800998ecf8427e'},\n",
       " {'network_segment': 3,\n",
       "  'last_contact': '2023-09-03T11:34:27.1191971Z',\n",
       "  'online': True,\n",
       "  'ip_address': '10.0.3.92',\n",
       "  'id': '31302e302e332e3932d41d8cd98f00b204e9800998ecf8427e'}]"
      ]
     },
     "execution_count": 11,
     "metadata": {},
     "output_type": "execute_result"
    }
   ],
   "source": [
    "gateway_list[\"gateways\"]"
   ]
  },
  {
   "cell_type": "code",
   "execution_count": 12,
   "id": "f500b16b",
   "metadata": {},
   "outputs": [
    {
     "data": {
      "text/plain": [
       "20"
      ]
     },
     "execution_count": 12,
     "metadata": {},
     "output_type": "execute_result"
    }
   ],
   "source": [
    "gateways: list = gateway_list[\"gateways\"]\n",
    "len(gateways)"
   ]
  },
  {
   "cell_type": "markdown",
   "id": "05105e85",
   "metadata": {},
   "source": [
    "# Tags"
   ]
  },
  {
   "cell_type": "code",
   "execution_count": 28,
   "id": "ddf40a08",
   "metadata": {},
   "outputs": [],
   "source": [
    "def get_tag_data(g_id:str) -> list[dict]:\n",
    "    gateway_api = requests.get(f\"http://localhost:8080/api/v1/structure/tag/list/{g_id}\")\n",
    "    return json.loads(gateway_api.text)"
   ]
  },
  {
   "cell_type": "code",
   "execution_count": 30,
   "id": "7b3c4fd0",
   "metadata": {},
   "outputs": [
    {
     "data": {
      "text/plain": [
       "[{'sensors': [],\n",
       "  'address': 'f5:15:c3:50:51:b8',\n",
       "  'name': 'ruuvi_51b8',\n",
       "  'last_contact': '2023-09-03T12:05:26.4345421Z',\n",
       "  'online': True},\n",
       " {'sensors': [],\n",
       "  'address': '36:38:c9:66:bb:5f',\n",
       "  'name': 'ruuvi_bb5f',\n",
       "  'last_contact': '2023-09-03T12:05:26.4521632Z',\n",
       "  'online': True},\n",
       " {'sensors': [],\n",
       "  'address': 'c7:c7:d9:51:f:58',\n",
       "  'name': 'ruuvi_f58',\n",
       "  'last_contact': '2023-09-03T12:05:26.469885Z',\n",
       "  'online': True}]"
      ]
     },
     "execution_count": 30,
     "metadata": {},
     "output_type": "execute_result"
    }
   ],
   "source": [
    "tag_data = []\n",
    "for gateway in gateways:\n",
    "    tag_data.extend(get_tag_data(gateway[\"id\"]))\n",
    "tag_data[:3]"
   ]
  },
  {
   "cell_type": "code",
   "execution_count": 31,
   "id": "04daa81b",
   "metadata": {},
   "outputs": [
    {
     "data": {
      "text/plain": [
       "188"
      ]
     },
     "execution_count": 31,
     "metadata": {},
     "output_type": "execute_result"
    }
   ],
   "source": [
    "len(tag_data)"
   ]
  },
  {
   "cell_type": "markdown",
   "id": "82929d76",
   "metadata": {},
   "source": [
    "### Filter for tags with sensors"
   ]
  },
  {
   "cell_type": "code",
   "execution_count": 37,
   "id": "5b75a1f8",
   "metadata": {},
   "outputs": [
    {
     "data": {
      "text/plain": [
       "[]"
      ]
     },
     "execution_count": 37,
     "metadata": {},
     "output_type": "execute_result"
    }
   ],
   "source": [
    "from typing import Callable\n",
    "has_sensor_data:Callable[[Tag], bool] = lambda tag: len(tag[\"sensors\"]) > 0\n",
    "list(filter(has_sensor_data, tag_data))"
   ]
  },
  {
   "cell_type": "markdown",
   "id": "ce43fad2",
   "metadata": {},
   "source": [
    "# Data model"
   ]
  },
  {
   "cell_type": "code",
   "execution_count": 49,
   "id": "a7e71b2c",
   "metadata": {},
   "outputs": [],
   "source": [
    "from dataclasses import dataclass, field\n",
    "from datetime import datetime\n",
    "\n",
    "@dataclass\n",
    "class Tag:\n",
    "    sensors: list\n",
    "    address: str\n",
    "    name: str\n",
    "    last_contact: str | datetime\n",
    "    online: bool\n",
    "\n",
    "@dataclass\n",
    "class Gateway:\n",
    "    network_segment: int\n",
    "    last_contact: str\n",
    "    online: bool\n",
    "    ip_address: str\n",
    "    id: str # id is keyword in python, maybe needs a mapping\n",
    "    tags: list[Tag] = field(default_factory = list)"
   ]
  },
  {
   "cell_type": "markdown",
   "id": "0d38acc9",
   "metadata": {},
   "source": [
    "# Instantiate data model"
   ]
  },
  {
   "cell_type": "markdown",
   "id": "436bf20f",
   "metadata": {},
   "source": [
    "## Gateways"
   ]
  },
  {
   "cell_type": "code",
   "execution_count": 45,
   "id": "e305e185",
   "metadata": {},
   "outputs": [
    {
     "data": {
      "text/plain": [
       "[Gateway(network_segment=0, last_contact='2023-09-03T12:51:01.2260019Z', online=True, ip_address='10.0.0.191', id='31302e302e302e313931d41d8cd98f00b204e9800998ecf8427e', tags=[]),\n",
       " Gateway(network_segment=2, last_contact='2023-09-03T12:51:01.4392568Z', online=True, ip_address='10.0.2.250', id='31302e302e322e323530d41d8cd98f00b204e9800998ecf8427e', tags=[]),\n",
       " Gateway(network_segment=2, last_contact='2023-09-03T12:51:01.5460281Z', online=True, ip_address='10.0.2.242', id='31302e302e322e323432d41d8cd98f00b204e9800998ecf8427e', tags=[])]"
      ]
     },
     "execution_count": 45,
     "metadata": {},
     "output_type": "execute_result"
    }
   ],
   "source": [
    "# Gateway api\n",
    "gateway_api = requests.get(\"http://localhost:8080/api/v1/structure/gateway/list\")\n",
    "\n",
    "gateways: list[Gateway] = []\n",
    "\n",
    "# if gateway_list_api.status_code == 200\n",
    "for gateway in json.loads(gateway_api.text)[\"gateways\"]:\n",
    "    gateways.append(\n",
    "        Gateway(**gateway)\n",
    "    )\n",
    "    \n",
    "gateways[:3]"
   ]
  },
  {
   "cell_type": "markdown",
   "id": "60e6fb05",
   "metadata": {},
   "source": [
    "## Tags"
   ]
  },
  {
   "cell_type": "code",
   "execution_count": 50,
   "id": "fd1b07bf",
   "metadata": {},
   "outputs": [
    {
     "data": {
      "text/plain": [
       "[Gateway(network_segment=0, last_contact='2023-09-03T12:51:01.2260019Z', online=True, ip_address='10.0.0.191', id='31302e302e302e313931d41d8cd98f00b204e9800998ecf8427e', tags=[Tag(sensors=[], address='b2:62:93:ca:32:a9', name='ruuvi_32a9', last_contact='2023-09-03T12:53:09.6749338Z', online=True), Tag(sensors=[], address='90:90:e4:b0:3f:52', name='ruuvi_3f52', last_contact='2023-09-03T12:53:09.6954427Z', online=True), Tag(sensors=[], address='27:22:a4:f3:6e:9e', name='ruuvi_6e9e', last_contact='2023-09-03T12:53:09.7145584Z', online=True), Tag(sensors=[], address='11:4d:5:6d:5b:6a', name='ruuvi_5b6a', last_contact='2023-09-03T12:53:09.7315777Z', online=True), Tag(sensors=[], address='b7:29:8b:5e:76:a8', name='ruuvi_76a8', last_contact='2023-09-03T12:53:09.7489901Z', online=True), Tag(sensors=[], address='62:f7:c9:89:5b:4f', name='ruuvi_5b4f', last_contact='2023-09-03T12:53:09.7660636Z', online=True), Tag(sensors=[], address='dc:66:2f:c6:a:2c', name='ruuvi_a2c', last_contact='2023-09-03T12:53:09.7840842Z', online=True), Tag(sensors=[], address='34:28:c1:99:87:59', name='ruuvi_8759', last_contact='2023-09-03T12:53:09.802017Z', online=True), Tag(sensors=[], address='10:fd:3:68:47:86', name='ruuvi_4786', last_contact='2023-09-03T12:53:09.8189406Z', online=True), Tag(sensors=[], address='10:fd:3:68:47:86', name='ruuvi_4786', last_contact='2023-09-03T12:25:29.9236498Z', online=False), Tag(sensors=[], address='10:fd:3:68:47:86', name='ruuvi_4786', last_contact='2023-09-03T12:53:09.8358992Z', online=True), Tag(sensors=[], address='83:8f:cd:1f:bd:1f', name='ruuvi_bd1f', last_contact='2023-09-03T12:53:09.8528085Z', online=True), Tag(sensors=[], address='83:8f:cd:1f:bd:1f', name='ruuvi_bd1f', last_contact='2023-09-03T12:52:59.7907308Z', online=False), Tag(sensors=[], address='21:d3:2a:c2:a2:b6', name='ruuvi_a2b6', last_contact='2023-09-03T11:04:33.5877554Z', online=False), Tag(sensors=[], address='21:d3:2a:c2:a2:b6', name='ruuvi_a2b6', last_contact='2023-09-03T11:04:33.5877554Z', online=False), Tag(sensors=[], address='83:8f:cd:1f:bd:1f', name='ruuvi_bd1f', last_contact='2023-09-03T12:29:27.995066Z', online=False)]),\n",
       " Gateway(network_segment=2, last_contact='2023-09-03T12:51:01.4392568Z', online=True, ip_address='10.0.2.250', id='31302e302e322e323530d41d8cd98f00b204e9800998ecf8427e', tags=[Tag(sensors=[], address='f5:15:c3:50:51:b8', name='ruuvi_51b8', last_contact='2023-09-03T12:53:09.9750233Z', online=True), Tag(sensors=[], address='36:38:c9:66:bb:5f', name='ruuvi_bb5f', last_contact='2023-09-03T12:53:09.9919424Z', online=True), Tag(sensors=[], address='c7:c7:d9:51:f:58', name='ruuvi_f58', last_contact='2023-09-03T12:53:10.0087895Z', online=True), Tag(sensors=[], address='80:4f:99:1e:44:2e', name='ruuvi_442e', last_contact='2023-09-03T12:53:10.0258988Z', online=True), Tag(sensors=[], address='84:98:49:68:6a:42', name='ruuvi_6a42', last_contact='2023-09-03T12:53:10.0430501Z', online=True), Tag(sensors=[], address='84:98:49:68:6a:42', name='ruuvi_6a42', last_contact='2023-09-03T12:53:10.0601667Z', online=True)]),\n",
       " Gateway(network_segment=2, last_contact='2023-09-03T12:51:01.5460281Z', online=True, ip_address='10.0.2.242', id='31302e302e322e323432d41d8cd98f00b204e9800998ecf8427e', tags=[Tag(sensors=[], address='f5:15:c3:50:51:b8', name='ruuvi_51b8', last_contact='2023-09-03T12:53:12.4449683Z', online=True), Tag(sensors=[], address='36:38:c9:66:bb:5f', name='ruuvi_bb5f', last_contact='2023-09-03T12:53:12.4628868Z', online=True), Tag(sensors=[], address='c7:c7:d9:51:f:58', name='ruuvi_f58', last_contact='2023-09-03T12:53:12.4806251Z', online=True), Tag(sensors=[], address='80:4f:99:1e:44:2e', name='ruuvi_442e', last_contact='2023-09-03T12:53:12.4980884Z', online=True), Tag(sensors=[], address='84:98:49:68:6a:42', name='ruuvi_6a42', last_contact='2023-09-03T12:53:12.5159291Z', online=True), Tag(sensors=[], address='84:98:49:68:6a:42', name='ruuvi_6a42', last_contact='2023-09-03T12:53:12.5338444Z', online=True), Tag(sensors=[], address='72:39:62:19:36:af', name='ruuvi_36af', last_contact='2023-09-03T12:53:12.5517335Z', online=True)]),\n",
       " Gateway(network_segment=0, last_contact='2023-09-03T12:51:01.6889304Z', online=True, ip_address='10.0.0.106', id='31302e302e302e313036d41d8cd98f00b204e9800998ecf8427e', tags=[Tag(sensors=[], address='2c:8e:f4:f7:58:e4', name='ruuvi_58e4', last_contact='2023-09-03T12:53:15.264282Z', online=True), Tag(sensors=[], address='27:12:ed:e0:44:a9', name='ruuvi_44a9', last_contact='2023-09-03T12:53:15.2821596Z', online=True), Tag(sensors=[], address='2:8b:55:0:12:7f', name='ruuvi_127f', last_contact='2023-09-03T12:24:01.1680982Z', online=False), Tag(sensors=[], address='5d:b8:1e:9c:c9:a6', name='ruuvi_c9a6', last_contact='2023-09-03T12:53:15.3000833Z', online=True), Tag(sensors=[], address='9b:d3:b4:9d:bc:5c', name='ruuvi_bc5c', last_contact='2023-09-03T12:53:15.3178627Z', online=True), Tag(sensors=[], address='cb:b8:28:6:8c:49', name='ruuvi_8c49', last_contact='2023-09-03T12:53:15.3356064Z', online=True), Tag(sensors=[], address='6:8f:80:0:84:a9', name='ruuvi_84a9', last_contact='2023-09-03T12:12:59.5963599Z', online=False), Tag(sensors=[], address='ae:cb:29:84:47:f8', name='ruuvi_47f8', last_contact='2023-09-03T12:53:15.3532063Z', online=True), Tag(sensors=[], address='f7:f8:25:fc:4f:73', name='ruuvi_4f73', last_contact='2023-09-03T11:24:58.320349Z', online=False), Tag(sensors=[], address='f8:7f:57:ba:2a:19', name='ruuvi_2a19', last_contact='2023-09-03T12:24:21.4163528Z', online=False), Tag(sensors=[], address='f8:7f:57:ba:2a:19', name='ruuvi_2a19', last_contact='2023-09-03T12:24:21.4163528Z', online=False), Tag(sensors=[], address='f8:7f:57:ba:2a:19', name='ruuvi_2a19', last_contact='2023-09-03T12:24:21.4163528Z', online=False), Tag(sensors=[], address='3d:f8:11:a9:3:b', name='ruuvi_3b', last_contact='2023-09-03T12:08:03.0169821Z', online=False)]),\n",
       " Gateway(network_segment=2, last_contact='2023-09-03T12:51:01.795652Z', online=True, ip_address='10.0.2.9', id='31302e302e322e39d41d8cd98f00b204e9800998ecf8427e', tags=[Tag(sensors=[], address='2c:8e:f4:f7:58:e4', name='ruuvi_58e4', last_contact='2023-09-03T12:53:17.6134778Z', online=True), Tag(sensors=[], address='27:12:ed:e0:44:a9', name='ruuvi_44a9', last_contact='2023-09-03T12:53:17.6312269Z', online=True), Tag(sensors=[], address='2:8b:55:0:12:7f', name='ruuvi_127f', last_contact='2023-09-03T12:24:01.1680982Z', online=False), Tag(sensors=[], address='5d:b8:1e:9c:c9:a6', name='ruuvi_c9a6', last_contact='2023-09-03T12:53:17.6490526Z', online=True), Tag(sensors=[], address='9b:d3:b4:9d:bc:5c', name='ruuvi_bc5c', last_contact='2023-09-03T12:53:17.6669047Z', online=True), Tag(sensors=[], address='cb:b8:28:6:8c:49', name='ruuvi_8c49', last_contact='2023-09-03T12:53:17.684742Z', online=True), Tag(sensors=[], address='6:8f:80:0:84:a9', name='ruuvi_84a9', last_contact='2023-09-03T12:12:59.5963599Z', online=False), Tag(sensors=[], address='ae:cb:29:84:47:f8', name='ruuvi_47f8', last_contact='2023-09-03T12:53:17.7024428Z', online=True), Tag(sensors=[], address='f7:f8:25:fc:4f:73', name='ruuvi_4f73', last_contact='2023-09-03T11:24:58.320349Z', online=False), Tag(sensors=[], address='f8:7f:57:ba:2a:19', name='ruuvi_2a19', last_contact='2023-09-03T12:24:21.4163528Z', online=False), Tag(sensors=[], address='f8:7f:57:ba:2a:19', name='ruuvi_2a19', last_contact='2023-09-03T12:24:21.4163528Z', online=False), Tag(sensors=[], address='f8:7f:57:ba:2a:19', name='ruuvi_2a19', last_contact='2023-09-03T12:24:21.4163528Z', online=False), Tag(sensors=[], address='3d:f8:11:a9:3:b', name='ruuvi_3b', last_contact='2023-09-03T12:08:03.0169821Z', online=False), Tag(sensors=[], address='f8:7f:57:ba:2a:19', name='ruuvi_2a19', last_contact='2023-09-03T12:53:17.7202987Z', online=True)])]"
      ]
     },
     "execution_count": 50,
     "metadata": {},
     "output_type": "execute_result"
    }
   ],
   "source": [
    "for gateway in gateways:\n",
    "    tag_api = requests.get(f\"http://localhost:8080/api/v1/structure/tag/list/{gateway.id}\")\n",
    "    tag_list = json.loads(tag_api.text)\n",
    "    if len(tag_list) > 0:\n",
    "        for tag in tag_list:\n",
    "            gateway.tags.append(\n",
    "                Tag(**tag)\n",
    "            )\n",
    "            \n",
    "gateways[:5]"
   ]
  },
  {
   "cell_type": "code",
   "execution_count": 51,
   "id": "d38d1dad",
   "metadata": {},
   "outputs": [
    {
     "data": {
      "text/plain": [
       "20"
      ]
     },
     "execution_count": 51,
     "metadata": {},
     "output_type": "execute_result"
    }
   ],
   "source": [
    "len(gateways)"
   ]
  },
  {
   "cell_type": "code",
   "execution_count": 53,
   "id": "26de908c",
   "metadata": {},
   "outputs": [
    {
     "data": {
      "text/plain": [
       "19"
      ]
     },
     "execution_count": 53,
     "metadata": {},
     "output_type": "execute_result"
    }
   ],
   "source": [
    "has_tags: Callable[[Gateway], bool] = lambda g: len(g.tags) > 0\n",
    "len(list(filter(has_tags, gateways)))"
   ]
  },
  {
   "cell_type": "code",
   "execution_count": 55,
   "id": "0682ad4f",
   "metadata": {},
   "outputs": [
    {
     "data": {
      "text/plain": [
       "[{'sensors': [],\n",
       "  'address': 'b2:62:93:ca:32:a9',\n",
       "  'name': 'ruuvi_32a9',\n",
       "  'last_contact': '2023-09-03T13:01:21.7345094Z',\n",
       "  'online': True},\n",
       " {'sensors': [],\n",
       "  'address': '90:90:e4:b0:3f:52',\n",
       "  'name': 'ruuvi_3f52',\n",
       "  'last_contact': '2023-09-03T13:01:21.7561314Z',\n",
       "  'online': True},\n",
       " {'sensors': [],\n",
       "  'address': '27:22:a4:f3:6e:9e',\n",
       "  'name': 'ruuvi_6e9e',\n",
       "  'last_contact': '2023-09-03T13:01:21.7767795Z',\n",
       "  'online': True},\n",
       " {'sensors': [],\n",
       "  'address': '11:4d:5:6d:5b:6a',\n",
       "  'name': 'ruuvi_5b6a',\n",
       "  'last_contact': '2023-09-03T13:01:21.7975976Z',\n",
       "  'online': True},\n",
       " {'sensors': [],\n",
       "  'address': 'b7:29:8b:5e:76:a8',\n",
       "  'name': 'ruuvi_76a8',\n",
       "  'last_contact': '2023-09-03T13:01:21.8185254Z',\n",
       "  'online': True},\n",
       " {'sensors': [],\n",
       "  'address': '62:f7:c9:89:5b:4f',\n",
       "  'name': 'ruuvi_5b4f',\n",
       "  'last_contact': '2023-09-03T13:01:21.8367719Z',\n",
       "  'online': True},\n",
       " {'sensors': [],\n",
       "  'address': 'dc:66:2f:c6:a:2c',\n",
       "  'name': 'ruuvi_a2c',\n",
       "  'last_contact': '2023-09-03T13:01:21.8554702Z',\n",
       "  'online': True},\n",
       " {'sensors': [],\n",
       "  'address': '34:28:c1:99:87:59',\n",
       "  'name': 'ruuvi_8759',\n",
       "  'last_contact': '2023-09-03T13:01:21.8733747Z',\n",
       "  'online': True},\n",
       " {'sensors': [],\n",
       "  'address': '10:fd:3:68:47:86',\n",
       "  'name': 'ruuvi_4786',\n",
       "  'last_contact': '2023-09-03T13:01:21.8911346Z',\n",
       "  'online': True},\n",
       " {'sensors': [],\n",
       "  'address': '10:fd:3:68:47:86',\n",
       "  'name': 'ruuvi_4786',\n",
       "  'last_contact': '2023-09-03T12:25:29.9236498Z',\n",
       "  'online': False},\n",
       " {'sensors': [],\n",
       "  'address': '10:fd:3:68:47:86',\n",
       "  'name': 'ruuvi_4786',\n",
       "  'last_contact': '2023-09-03T13:01:21.9089164Z',\n",
       "  'online': True},\n",
       " {'sensors': [],\n",
       "  'address': '83:8f:cd:1f:bd:1f',\n",
       "  'name': 'ruuvi_bd1f',\n",
       "  'last_contact': '2023-09-03T13:01:21.9265145Z',\n",
       "  'online': True},\n",
       " {'sensors': [],\n",
       "  'address': '83:8f:cd:1f:bd:1f',\n",
       "  'name': 'ruuvi_bd1f',\n",
       "  'last_contact': '2023-09-03T12:52:59.7907308Z',\n",
       "  'online': False},\n",
       " {'sensors': [],\n",
       "  'address': '21:d3:2a:c2:a2:b6',\n",
       "  'name': 'ruuvi_a2b6',\n",
       "  'last_contact': '2023-09-03T11:04:33.5877554Z',\n",
       "  'online': False},\n",
       " {'sensors': [],\n",
       "  'address': '21:d3:2a:c2:a2:b6',\n",
       "  'name': 'ruuvi_a2b6',\n",
       "  'last_contact': '2023-09-03T11:04:33.5877554Z',\n",
       "  'online': False},\n",
       " {'sensors': [],\n",
       "  'address': '83:8f:cd:1f:bd:1f',\n",
       "  'name': 'ruuvi_bd1f',\n",
       "  'last_contact': '2023-09-03T12:29:27.995066Z',\n",
       "  'online': False}]"
      ]
     },
     "execution_count": 55,
     "metadata": {},
     "output_type": "execute_result"
    }
   ],
   "source": [
    "# some test\n",
    "tags = json.loads(requests.get(f\"http://localhost:8080/api/v1/structure/tag/list/{gateways[0].id}\").text)\n",
    "tags"
   ]
  },
  {
   "cell_type": "code",
   "execution_count": 56,
   "id": "ffa8cd5f",
   "metadata": {},
   "outputs": [
    {
     "data": {
      "text/plain": [
       "[Gateway(network_segment=0, last_contact='2023-09-03T10:52:56.1370102Z', online=False, ip_address='10.0.0.65', id='31302e302e302e3635d41d8cd98f00b204e9800998ecf8427e', tags=[])]"
      ]
     },
     "execution_count": 56,
     "metadata": {},
     "output_type": "execute_result"
    }
   ],
   "source": [
    "has_no_tag: Callable[[Gateway], bool] = lambda g: len(g.tags) == 0\n",
    "no_tag_gateways = list(filter(has_no_tag, gateways))\n",
    "no_tag_gateways"
   ]
  },
  {
   "cell_type": "code",
   "execution_count": 57,
   "id": "2e9e6f6e",
   "metadata": {},
   "outputs": [
    {
     "data": {
      "text/plain": [
       "[]"
      ]
     },
     "execution_count": 57,
     "metadata": {},
     "output_type": "execute_result"
    }
   ],
   "source": [
    "tags = json.loads(requests.get(f\"http://localhost:8080/api/v1/structure/tag/list/{no_tag_gateways[0].id}\").text)\n",
    "tags"
   ]
  }
 ],
 "metadata": {
  "kernelspec": {
   "display_name": ".DBinBigData",
   "language": "python",
   "name": ".dbinbigdata"
  },
  "language_info": {
   "codemirror_mode": {
    "name": "ipython",
    "version": 3
   },
   "file_extension": ".py",
   "mimetype": "text/x-python",
   "name": "python",
   "nbconvert_exporter": "python",
   "pygments_lexer": "ipython3",
   "version": "3.10.5"
  }
 },
 "nbformat": 4,
 "nbformat_minor": 5
}
