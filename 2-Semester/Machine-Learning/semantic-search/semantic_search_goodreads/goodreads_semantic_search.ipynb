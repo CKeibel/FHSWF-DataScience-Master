{
 "cells": [
  {
   "cell_type": "code",
   "execution_count": 1,
   "id": "406e1605",
   "metadata": {},
   "outputs": [],
   "source": [
    "import pandas as pd"
   ]
  },
  {
   "cell_type": "markdown",
   "id": "41dbcd69",
   "metadata": {},
   "source": [
    "# Load dataset"
   ]
  },
  {
   "cell_type": "code",
   "execution_count": 2,
   "id": "ee618faf",
   "metadata": {},
   "outputs": [
    {
     "name": "stdout",
     "output_type": "stream",
     "text": [
      "goodreads_data.csv              readme.md\r\n",
      "goodreads_semantic_search.ipynb\r\n"
     ]
    }
   ],
   "source": [
    "!ls"
   ]
  },
  {
   "cell_type": "code",
   "execution_count": 3,
   "id": "f51f6542",
   "metadata": {},
   "outputs": [
    {
     "data": {
      "text/html": [
       "<div>\n",
       "<style scoped>\n",
       "    .dataframe tbody tr th:only-of-type {\n",
       "        vertical-align: middle;\n",
       "    }\n",
       "\n",
       "    .dataframe tbody tr th {\n",
       "        vertical-align: top;\n",
       "    }\n",
       "\n",
       "    .dataframe thead th {\n",
       "        text-align: right;\n",
       "    }\n",
       "</style>\n",
       "<table border=\"1\" class=\"dataframe\">\n",
       "  <thead>\n",
       "    <tr style=\"text-align: right;\">\n",
       "      <th></th>\n",
       "      <th>Unnamed: 0</th>\n",
       "      <th>Book</th>\n",
       "      <th>Author</th>\n",
       "      <th>Description</th>\n",
       "      <th>Genres</th>\n",
       "      <th>Avg_Rating</th>\n",
       "      <th>Num_Ratings</th>\n",
       "      <th>URL</th>\n",
       "    </tr>\n",
       "  </thead>\n",
       "  <tbody>\n",
       "    <tr>\n",
       "      <th>0</th>\n",
       "      <td>0</td>\n",
       "      <td>To Kill a Mockingbird</td>\n",
       "      <td>Harper Lee</td>\n",
       "      <td>The unforgettable novel of a childhood in a sl...</td>\n",
       "      <td>['Classics', 'Fiction', 'Historical Fiction', ...</td>\n",
       "      <td>4.27</td>\n",
       "      <td>5,691,311</td>\n",
       "      <td>https://www.goodreads.com/book/show/2657.To_Ki...</td>\n",
       "    </tr>\n",
       "    <tr>\n",
       "      <th>1</th>\n",
       "      <td>1</td>\n",
       "      <td>Harry Potter and the Philosopher’s Stone (Harr...</td>\n",
       "      <td>J.K. Rowling</td>\n",
       "      <td>Harry Potter thinks he is an ordinary boy - un...</td>\n",
       "      <td>['Fantasy', 'Fiction', 'Young Adult', 'Magic',...</td>\n",
       "      <td>4.47</td>\n",
       "      <td>9,278,135</td>\n",
       "      <td>https://www.goodreads.com/book/show/72193.Harr...</td>\n",
       "    </tr>\n",
       "    <tr>\n",
       "      <th>2</th>\n",
       "      <td>2</td>\n",
       "      <td>Pride and Prejudice</td>\n",
       "      <td>Jane Austen</td>\n",
       "      <td>Since its immediate success in 1813, Pride and...</td>\n",
       "      <td>['Classics', 'Fiction', 'Romance', 'Historical...</td>\n",
       "      <td>4.28</td>\n",
       "      <td>3,944,155</td>\n",
       "      <td>https://www.goodreads.com/book/show/1885.Pride...</td>\n",
       "    </tr>\n",
       "    <tr>\n",
       "      <th>3</th>\n",
       "      <td>3</td>\n",
       "      <td>The Diary of a Young Girl</td>\n",
       "      <td>Anne Frank</td>\n",
       "      <td>Discovered in the attic in which she spent the...</td>\n",
       "      <td>['Classics', 'Nonfiction', 'History', 'Biograp...</td>\n",
       "      <td>4.18</td>\n",
       "      <td>3,488,438</td>\n",
       "      <td>https://www.goodreads.com/book/show/48855.The_...</td>\n",
       "    </tr>\n",
       "    <tr>\n",
       "      <th>4</th>\n",
       "      <td>4</td>\n",
       "      <td>Animal Farm</td>\n",
       "      <td>George Orwell</td>\n",
       "      <td>Librarian's note: There is an Alternate Cover ...</td>\n",
       "      <td>['Classics', 'Fiction', 'Dystopia', 'Fantasy',...</td>\n",
       "      <td>3.98</td>\n",
       "      <td>3,575,172</td>\n",
       "      <td>https://www.goodreads.com/book/show/170448.Ani...</td>\n",
       "    </tr>\n",
       "  </tbody>\n",
       "</table>\n",
       "</div>"
      ],
      "text/plain": [
       "   Unnamed: 0                                               Book  \\\n",
       "0           0                              To Kill a Mockingbird   \n",
       "1           1  Harry Potter and the Philosopher’s Stone (Harr...   \n",
       "2           2                                Pride and Prejudice   \n",
       "3           3                          The Diary of a Young Girl   \n",
       "4           4                                        Animal Farm   \n",
       "\n",
       "          Author                                        Description  \\\n",
       "0     Harper Lee  The unforgettable novel of a childhood in a sl...   \n",
       "1   J.K. Rowling  Harry Potter thinks he is an ordinary boy - un...   \n",
       "2    Jane Austen  Since its immediate success in 1813, Pride and...   \n",
       "3     Anne Frank  Discovered in the attic in which she spent the...   \n",
       "4  George Orwell  Librarian's note: There is an Alternate Cover ...   \n",
       "\n",
       "                                              Genres  Avg_Rating Num_Ratings  \\\n",
       "0  ['Classics', 'Fiction', 'Historical Fiction', ...        4.27   5,691,311   \n",
       "1  ['Fantasy', 'Fiction', 'Young Adult', 'Magic',...        4.47   9,278,135   \n",
       "2  ['Classics', 'Fiction', 'Romance', 'Historical...        4.28   3,944,155   \n",
       "3  ['Classics', 'Nonfiction', 'History', 'Biograp...        4.18   3,488,438   \n",
       "4  ['Classics', 'Fiction', 'Dystopia', 'Fantasy',...        3.98   3,575,172   \n",
       "\n",
       "                                                 URL  \n",
       "0  https://www.goodreads.com/book/show/2657.To_Ki...  \n",
       "1  https://www.goodreads.com/book/show/72193.Harr...  \n",
       "2  https://www.goodreads.com/book/show/1885.Pride...  \n",
       "3  https://www.goodreads.com/book/show/48855.The_...  \n",
       "4  https://www.goodreads.com/book/show/170448.Ani...  "
      ]
     },
     "execution_count": 3,
     "metadata": {},
     "output_type": "execute_result"
    }
   ],
   "source": [
    "df = pd.read_csv(\"goodreads_data.csv\")\n",
    "df.head(5)"
   ]
  },
  {
   "cell_type": "code",
   "execution_count": 4,
   "id": "c88d10b6",
   "metadata": {},
   "outputs": [
    {
     "data": {
      "text/plain": [
       "'Harry Potter thinks he is an ordinary boy - until he is rescued by an owl, taken to Hogwarts School of Witchcraft and Wizardry, learns to play Quidditch and does battle in a deadly duel. The Reason ... HARRY POTTER IS A WIZARD!'"
      ]
     },
     "execution_count": 4,
     "metadata": {},
     "output_type": "execute_result"
    }
   ],
   "source": [
    "df.loc[1, \"Description\"]"
   ]
  },
  {
   "cell_type": "code",
   "execution_count": 5,
   "id": "fd40e9b9",
   "metadata": {},
   "outputs": [
    {
     "data": {
      "text/plain": [
       "10000"
      ]
     },
     "execution_count": 5,
     "metadata": {},
     "output_type": "execute_result"
    }
   ],
   "source": [
    "len(df)"
   ]
  },
  {
   "cell_type": "markdown",
   "id": "cc59befe",
   "metadata": {},
   "source": [
    "## data preprocessing"
   ]
  },
  {
   "cell_type": "code",
   "execution_count": 6,
   "id": "a39cc65a",
   "metadata": {},
   "outputs": [
    {
     "data": {
      "text/plain": [
       "True"
      ]
     },
     "execution_count": 6,
     "metadata": {},
     "output_type": "execute_result"
    }
   ],
   "source": [
    "df[\"Description\"].isnull().values.any()"
   ]
  },
  {
   "cell_type": "code",
   "execution_count": 7,
   "id": "fe050b17",
   "metadata": {},
   "outputs": [
    {
     "data": {
      "text/plain": [
       "False"
      ]
     },
     "execution_count": 7,
     "metadata": {},
     "output_type": "execute_result"
    }
   ],
   "source": [
    "df = df[~df[\"Description\"].isnull().values]\n",
    "df[\"Description\"].isnull().values.any()"
   ]
  },
  {
   "cell_type": "code",
   "execution_count": 8,
   "id": "dfff01b4",
   "metadata": {},
   "outputs": [
    {
     "data": {
      "text/plain": [
       "True"
      ]
     },
     "execution_count": 8,
     "metadata": {},
     "output_type": "execute_result"
    }
   ],
   "source": [
    "df[\"Description\"].map(type).eq(str).all()"
   ]
  },
  {
   "cell_type": "markdown",
   "id": "9f426515",
   "metadata": {},
   "source": [
    "# Embbed description"
   ]
  },
  {
   "cell_type": "code",
   "execution_count": 9,
   "id": "7017e6f6",
   "metadata": {},
   "outputs": [
    {
     "name": "stderr",
     "output_type": "stream",
     "text": [
      "/Users/christopherkeibel/Documents/Workspace/fh-swf/00 - Github/FHSWF-DataScience-Master/2-Semester/Machine-Learning/semantic-search/semantic_search_goodreads/.goodreads-ss/lib/python3.10/site-packages/tqdm/auto.py:21: TqdmWarning: IProgress not found. Please update jupyter and ipywidgets. See https://ipywidgets.readthedocs.io/en/stable/user_install.html\n",
      "  from .autonotebook import tqdm as notebook_tqdm\n"
     ]
    }
   ],
   "source": [
    "import torch\n",
    "from transformers import AutoTokenizer, AutoModel"
   ]
  },
  {
   "cell_type": "code",
   "execution_count": 10,
   "id": "d47956b5",
   "metadata": {},
   "outputs": [],
   "source": [
    "def embbed_text(text: str):\n",
    "    tokenizer = AutoTokenizer.from_pretrained('sentence-transformers/paraphrase-xlm-r-multilingual-v1')\n",
    "    encoded_input = tokenizer(text, padding=True, truncation=True, return_tensors='pt')\n",
    "    \n",
    "    model = AutoModel.from_pretrained('sentence-transformers/paraphrase-xlm-r-multilingual-v1')\n",
    "    \n",
    "    with torch.no_grad():\n",
    "        model_output = model(**encoded_input)\n",
    "        \n",
    "    token_embeddings = model_output[0]\n",
    "    input_mask_expanded = encoded_input['attention_mask'].unsqueeze(-1).expand(token_embeddings.size()).float()\n",
    "    return torch.sum(token_embeddings * input_mask_expanded, 1) / torch.clamp(input_mask_expanded.sum(1), min=1e-9)"
   ]
  },
  {
   "cell_type": "code",
   "execution_count": 11,
   "id": "4becb3e0",
   "metadata": {},
   "outputs": [
    {
     "data": {
      "text/plain": [
       "torch.Size([1, 768])"
      ]
     },
     "execution_count": 11,
     "metadata": {},
     "output_type": "execute_result"
    }
   ],
   "source": [
    "text_vector = embbed_text('Harry Potter thinks he is an ordinary boy - until he is rescued by an owl, taken to Hogwarts School of Witchcraft and Wizardry, learns to play Quidditch and does battle in a deadly duel.')\n",
    "text_vector.shape"
   ]
  },
  {
   "cell_type": "code",
   "execution_count": 12,
   "id": "8fcc5dbf",
   "metadata": {},
   "outputs": [
    {
     "data": {
      "text/plain": [
       "tensor([-2.8036e-02, -3.2336e-02,  1.9003e-01,  2.2420e-01,  5.0261e-01,\n",
       "         1.1537e-01, -4.0926e-03, -9.2236e-02,  1.1352e-01,  3.4750e-01,\n",
       "        -2.0338e-02, -5.9704e-03,  1.2111e-01, -1.6532e-01, -6.1809e-02,\n",
       "        -6.0135e-02, -3.0957e-01, -3.3927e-01,  2.1840e-01, -6.6099e-01,\n",
       "        -9.4402e-03, -4.6507e-01,  3.5305e-01, -2.5839e-01,  4.3892e-01,\n",
       "         2.0926e-01, -1.8385e-01,  3.1524e-01,  5.9155e-01, -4.5683e-01,\n",
       "         4.3781e-02, -2.1923e-01, -1.3661e-02,  3.1315e-01, -8.1621e-02,\n",
       "         1.1361e-01, -1.6899e-02,  8.3974e-02,  5.0431e-01,  6.4424e-02,\n",
       "        -1.8838e-01,  1.2939e-02,  5.1717e-02,  1.1867e-01,  8.2663e-02,\n",
       "        -9.8702e-02, -2.0744e-01,  5.9413e-01,  5.1866e-03, -1.1067e-01,\n",
       "         2.6276e-01,  4.1311e-02,  1.5343e-01,  3.1478e-02,  6.6940e-02,\n",
       "         2.1501e-01, -1.0987e-02, -4.5606e-02,  2.0691e-02, -2.8726e-01,\n",
       "         3.0701e-01,  2.2944e-01, -3.6302e-01, -1.0851e-01, -2.1084e-02,\n",
       "        -4.6555e-02, -2.3323e-01,  1.5387e-01,  1.1587e-01, -5.9777e-02,\n",
       "        -2.1159e-01, -1.5015e-01, -1.6126e-01,  3.7058e-01, -1.8296e-01,\n",
       "        -1.9317e-01, -5.7640e-02, -7.9431e-02,  8.5411e-02, -1.6382e-01,\n",
       "        -1.2102e-01,  3.1953e-02, -2.2660e-01, -2.5379e-01,  2.4745e-01,\n",
       "        -1.8259e-01, -1.5910e-01, -2.4845e-01, -4.4444e-03,  4.2871e-02,\n",
       "         3.5515e-01,  3.7898e-01, -1.5827e-01,  2.9663e-01,  2.3242e-02,\n",
       "         5.2112e-02, -4.3130e-01, -4.4453e-01, -3.1342e-02, -1.1990e-01,\n",
       "         3.2266e-01, -1.4718e-01,  1.9885e-01, -3.8576e-01,  1.4872e-01,\n",
       "         3.5267e-01, -5.2261e-01,  2.1556e-01, -9.3214e-02, -5.2046e-01,\n",
       "        -3.5013e-01,  4.4490e-01,  3.4164e-02, -2.6283e-01, -1.6417e-01,\n",
       "         1.4478e-01,  1.2199e-01,  1.9145e-01,  1.0286e-01, -4.1451e-01,\n",
       "         2.2536e-02,  1.9402e-01,  3.8154e-01,  3.1846e-01, -7.4778e-02,\n",
       "        -3.6136e-01,  1.1363e-01, -8.6190e-02, -2.1914e-03, -1.1181e-01,\n",
       "        -7.6764e-02, -3.5075e-01,  2.3176e-01, -5.5703e-01, -3.7410e-01,\n",
       "        -7.7457e-02,  1.5896e-01,  3.4992e-01, -2.8178e-01,  1.5404e-02,\n",
       "        -2.4136e-02,  4.4489e-02, -8.8126e-03,  2.7761e-01,  2.4747e-01,\n",
       "        -5.9968e-02,  1.5870e-02,  2.6022e-01,  3.1654e-01,  1.9063e-01,\n",
       "         1.1353e-01, -2.7794e-01,  6.9239e-02, -9.0775e-02, -1.0079e-01,\n",
       "        -1.2685e-01,  3.4101e-02,  9.6018e-03,  1.1347e-01, -1.3695e-01,\n",
       "         2.0157e-01,  7.3040e-02,  1.7430e-03,  1.2894e-02, -2.7458e-01,\n",
       "        -6.7100e-02, -1.2781e-01,  2.8139e-02, -1.3022e-01, -1.2006e-01,\n",
       "        -7.1633e-02,  1.6128e-01,  5.0546e-01, -1.8483e-01,  7.8404e-02,\n",
       "         2.1648e-01, -8.3403e-03, -3.9422e-02,  1.4419e-01,  4.0263e-02,\n",
       "         3.4179e-01,  2.1534e-01,  2.2833e-02,  1.5340e-01,  1.4919e-01,\n",
       "        -8.2917e-02,  2.1550e-02,  5.3229e-02, -3.3253e-01,  2.5974e-01,\n",
       "        -1.5272e-01,  1.9395e-01, -1.1756e-02,  2.5751e-01,  3.0170e-01,\n",
       "         2.1279e-01, -2.3014e-01,  6.8740e-02,  2.8278e-01,  1.0946e-01,\n",
       "        -9.6252e-02,  3.9381e-01, -1.8153e-01, -1.3930e-02,  3.8072e-01,\n",
       "         1.7060e-01,  2.3721e-01, -1.6532e-01,  3.8334e-01, -2.1614e-01,\n",
       "         4.4527e-02,  2.6676e-01, -9.3355e-02, -2.4926e-02,  1.2735e-01,\n",
       "        -7.0481e-02,  4.4221e-01,  1.8509e-01, -3.4878e-01,  3.4986e-01,\n",
       "         1.1198e-01, -2.3304e-01,  2.6280e-01, -8.9948e-02,  1.4133e-01,\n",
       "         8.1909e-02, -1.5852e-01, -2.2156e-01,  2.1242e-01, -9.4293e-02,\n",
       "         6.7940e-02,  3.1865e-01, -1.9870e-01, -3.8501e-01, -2.3232e-01,\n",
       "        -3.6733e-01, -2.6715e-01,  1.1160e-01,  2.8787e-01, -4.0715e-01,\n",
       "         8.7281e-02,  3.5608e-02, -1.9196e-01,  3.2494e-03,  1.4852e-01,\n",
       "        -3.3541e-02,  2.0580e-01, -2.6539e-02,  3.9390e-01, -5.4930e-01,\n",
       "         2.0806e-01, -3.1043e-02, -3.2181e-01,  4.1981e-01, -1.9500e-01,\n",
       "         8.4954e-03,  8.0206e-02,  1.3245e-02,  7.4255e-02,  4.0949e-02,\n",
       "         3.2362e-02, -8.0104e-02,  1.7321e-01, -1.6170e-02,  5.2469e-02,\n",
       "        -4.1611e-01, -1.5387e-01,  1.7955e-01,  2.3896e-02,  5.8632e-02,\n",
       "        -4.6217e-01,  1.5274e-01, -4.6987e-02,  3.7972e-01,  1.4527e-01,\n",
       "         2.7976e-01, -1.9371e-02,  3.7954e-01,  7.2960e-02, -1.9386e-01,\n",
       "        -1.1590e-01, -1.5456e-01, -2.4359e-01, -2.6759e-02,  2.5884e-01,\n",
       "         8.2758e-02,  1.2782e-01,  1.2531e-01,  5.6318e-02,  9.6049e-02,\n",
       "         1.5478e-01,  3.7496e-02,  8.4601e-02,  1.1852e-01,  7.0582e-03,\n",
       "         3.6487e-01,  1.1949e-03,  1.6030e-01, -2.8010e-01, -1.7209e-01,\n",
       "        -8.0295e-01, -8.8844e-02,  1.3194e-01,  1.4417e-01, -7.4887e-02,\n",
       "        -1.1431e-01, -1.1534e-02,  8.1457e-02, -1.0139e-01,  5.3541e-01,\n",
       "        -1.7200e-01, -6.7070e-02, -8.1017e-02, -8.8364e-02, -9.2240e-02,\n",
       "        -4.1991e-02,  7.0200e-02, -1.7470e-01,  1.4306e-01,  6.7287e-02,\n",
       "         1.5779e-02, -2.2225e-02, -6.4560e-02, -1.3823e-01,  6.3480e-02,\n",
       "         2.9649e-01,  2.8725e-02, -5.5980e-02, -3.2667e-01, -2.1552e-01,\n",
       "        -7.4910e-01, -1.9759e-02,  9.7625e-02,  5.4172e-01,  1.1763e-01,\n",
       "        -6.9198e-02, -2.5667e-02,  2.1568e-01, -2.6719e-01,  6.5059e-02,\n",
       "        -2.3641e-02,  3.7505e-01, -3.0656e-01, -1.1009e-01,  1.1718e-01,\n",
       "         5.2583e-01,  1.1088e-01,  1.2803e-01, -4.3975e-01, -2.1248e-02,\n",
       "         3.2250e-01,  3.4119e-02,  3.9969e-01,  6.8254e-01,  2.3110e-02,\n",
       "        -1.2487e-01,  2.1373e-01,  1.1114e-01, -1.4813e-01, -3.7956e-03,\n",
       "         3.5119e-02,  1.2998e-01,  1.3735e-01, -1.7341e-01, -1.2343e-01,\n",
       "         2.0673e-01,  1.5523e-01,  4.5590e-02, -1.8589e-01,  4.0169e-01,\n",
       "        -2.0727e-01,  6.0404e-02,  2.4886e-01,  4.5158e-01, -1.7431e-01,\n",
       "        -8.0993e-02, -1.6709e-01, -3.9010e-02,  5.4165e-01,  2.9515e-02,\n",
       "         1.8504e-01, -5.0816e-02,  1.7425e-01, -1.8315e-01,  1.7496e-02,\n",
       "        -1.2697e-01,  1.3933e-01,  1.2313e-02, -3.3758e-01, -2.5155e-01,\n",
       "         2.4855e-01, -1.3261e-01, -3.9601e-01, -3.0604e-01, -3.6550e-02,\n",
       "         3.1823e-01, -2.9297e-02,  1.1589e-01,  1.5272e-02,  2.7576e-01,\n",
       "        -2.8019e-01,  1.3864e-01, -6.0103e-02,  2.1524e-01, -5.7103e-02,\n",
       "         1.9315e-01,  3.0552e-02,  1.0757e-02, -4.5852e-01, -2.5278e-01,\n",
       "         5.5683e-02,  2.2506e-01, -4.7932e-02, -9.8424e-02,  3.6755e-02,\n",
       "         1.1309e-01, -8.3683e-02, -1.3272e-01,  5.7486e-02,  2.0749e-01,\n",
       "        -4.3994e-01,  1.9199e-01, -1.5649e-01,  1.0361e-01, -3.5025e-01,\n",
       "         5.3211e-02,  2.9268e-01,  1.3090e-02, -2.9997e-01,  2.2235e-01,\n",
       "         2.9390e-02,  9.6644e-02, -5.5036e-03,  1.3770e-01,  1.7052e-02,\n",
       "         4.8538e-02,  2.0411e-01,  8.7692e-03,  2.0707e-01,  7.3295e-03,\n",
       "        -3.0825e-01, -1.6775e-01,  6.1556e-02,  1.4460e-01,  1.2112e-01,\n",
       "         4.8438e-01, -4.5242e-01, -2.2167e-01,  1.7226e-02,  4.3431e-02,\n",
       "        -4.3184e-02, -5.7618e-01, -3.6482e-01, -2.4873e-01, -2.3431e-01,\n",
       "         2.6252e-01, -2.0723e-01,  2.7908e-02,  5.3980e-02, -2.4966e-02,\n",
       "         3.2593e-01, -2.3232e-01,  3.9855e-02,  2.4505e-01,  1.0340e-01,\n",
       "        -2.5174e-01,  6.3027e-02, -3.5759e-02,  2.9038e-01,  9.2227e-02,\n",
       "         1.7780e-01,  1.1763e-01, -1.3247e-01, -1.0980e-02,  3.4402e-01,\n",
       "         1.4312e-01, -1.8069e-01,  2.0964e-01,  1.4040e-01,  1.0688e-01,\n",
       "        -2.0997e-02,  2.3701e-02, -2.7368e-02,  2.2414e-02, -1.2198e-01,\n",
       "         1.6543e-01,  9.9246e-02, -1.4100e-02,  1.4719e-01,  1.3864e-01,\n",
       "         1.2710e-01, -1.5058e-01, -3.1339e-01, -1.3569e-01,  7.4701e-02,\n",
       "        -4.7098e-02, -1.9384e-01,  2.3273e-02, -1.1778e-01, -3.0550e-01,\n",
       "         1.6359e-01,  2.7133e-01,  1.4803e-01,  2.2347e-01,  1.6654e-01,\n",
       "         4.5657e-02,  3.3156e-02, -1.2272e-01, -4.6285e-02, -1.1849e-01,\n",
       "        -1.5662e-01,  2.9315e-01, -1.5931e-01, -6.6975e-02,  3.4112e-01,\n",
       "         1.1732e-01, -8.0591e-02, -1.3680e-02,  1.3454e-01, -3.9961e-01,\n",
       "        -1.5333e-02,  2.3544e-03,  5.6574e-02,  3.6365e-01, -1.3600e-02,\n",
       "         2.1749e-01,  1.3163e-01,  6.4718e-02,  1.1320e-01, -4.2363e-01,\n",
       "        -1.9780e-01, -1.5590e-01,  5.7688e-02, -4.1152e-02,  2.0178e-01,\n",
       "        -6.7455e-02,  5.0796e-01,  1.6941e-01,  2.6551e-01, -1.0600e-01,\n",
       "        -5.7996e-01, -6.8687e-03,  1.5392e-02, -1.3230e-01, -2.1433e-01,\n",
       "        -5.0059e-02,  7.0008e-01,  2.5711e-01, -1.3416e-01,  2.1022e-01,\n",
       "        -1.6385e-01, -2.0588e-01, -2.2863e-01,  2.3992e-01,  7.4597e-02,\n",
       "         7.7903e-02,  3.1611e-01, -4.8468e-01, -9.7683e-03, -9.8491e-02,\n",
       "        -1.0850e-01,  4.1719e-01, -1.4572e-02, -8.0592e-02,  3.3608e-02,\n",
       "         7.0083e-02,  4.0776e-04,  5.7254e-02, -1.8000e-01,  3.8320e-01,\n",
       "         3.7016e-01,  1.0464e-01, -4.7417e-02, -2.1154e-01, -1.3949e-01,\n",
       "        -6.9771e-02,  1.1689e-01,  7.0207e-01,  3.6409e-01, -1.2607e-01,\n",
       "        -1.1215e-01,  1.1771e-02,  2.8404e-01, -2.0133e-01,  5.7187e-02,\n",
       "         1.5937e-01,  1.4838e-02,  3.2195e-01, -2.5810e-01,  6.3557e-02,\n",
       "         1.6816e-01,  3.4013e-01, -2.3757e-01, -3.8490e-02, -2.2452e-01,\n",
       "         2.3548e-01, -4.5441e-01, -2.9004e-01,  6.8770e-02,  4.8116e-01,\n",
       "         1.2571e-01, -2.9868e-01,  2.0941e-01,  3.6991e-01, -2.9574e-01,\n",
       "         1.7941e-01, -2.8612e-01,  1.1894e-01, -2.6430e-01,  3.7858e-01,\n",
       "        -5.2641e-02, -1.4618e-01, -1.0433e-01,  1.6150e-01,  1.0450e-02,\n",
       "        -3.9673e-01, -1.9850e-01, -3.9870e-01, -4.3480e-01,  5.7813e-01,\n",
       "        -1.1225e-01,  1.2181e-02,  3.5685e-02, -8.6030e-04,  3.4250e-01,\n",
       "        -2.8214e-01,  3.2995e-01, -2.8063e-01, -1.0951e-01, -1.1660e-01,\n",
       "         5.6019e-02,  1.0902e-01,  3.7120e-02, -2.7454e-01,  1.5727e-01,\n",
       "         2.9445e-01,  4.8581e-01,  4.3518e-01,  1.1453e-01, -1.8710e-01,\n",
       "         1.6325e-01,  1.7748e-01, -8.3192e-03, -1.5130e-01,  3.7936e-01,\n",
       "        -2.2153e-01, -2.1488e-02, -4.0703e-01,  7.9313e-02,  5.0717e-02,\n",
       "         2.6348e-01,  1.5068e-01, -6.3639e-01, -4.7723e-01,  4.9289e-02,\n",
       "         5.2009e-01, -5.5617e-02, -9.7721e-02, -3.6848e-01, -3.3847e-02,\n",
       "         1.8735e-01,  1.5046e-01, -7.9582e-02,  3.7538e-02, -2.5696e-01,\n",
       "         1.0525e-01,  1.1447e-01, -9.1551e-02, -3.2482e-02, -1.2238e-01,\n",
       "         3.8909e-02, -9.4379e-02,  1.0479e-01,  2.4843e-01, -2.6413e-03,\n",
       "        -5.3165e-02,  5.7680e-01,  2.7927e-01, -4.3629e-01, -1.4501e-01,\n",
       "         2.7759e-01,  2.2951e-01,  1.8239e-01, -3.9463e-01,  1.2583e-01,\n",
       "         5.9506e-02,  5.0672e-01,  2.0071e-01,  1.4716e-01,  6.0239e-01,\n",
       "        -1.4990e-01,  2.1457e-01, -6.3319e-02, -4.9163e-02,  9.4541e-02,\n",
       "        -1.8505e-01, -1.6043e-02, -1.1611e-01, -2.8182e-02,  3.8682e-01,\n",
       "         3.8441e-01,  1.8473e-01, -7.9713e-03, -6.1080e-02,  2.0253e-01,\n",
       "         3.5340e-02,  1.1583e-01, -3.3853e-01,  1.7092e-01, -1.6172e-01,\n",
       "         1.3926e-01,  9.9250e-02, -2.1325e-02,  1.8529e-02,  2.8011e-01,\n",
       "         1.1104e-01, -9.9013e-02, -1.0110e-01, -7.4151e-01,  6.0225e-02,\n",
       "        -2.1373e-01, -3.0309e-01, -7.2201e-02, -9.1484e-03,  9.4699e-02,\n",
       "         2.6660e-01,  5.1962e-01, -2.4368e-01, -1.3902e-01, -3.6664e-01,\n",
       "        -2.1850e-01, -1.0420e-01, -5.3582e-01,  1.5309e-01,  1.8577e-01,\n",
       "         3.7235e-01,  4.3420e-01,  5.9381e-02, -3.0540e-01, -2.1213e-01,\n",
       "        -4.1273e-01, -3.8308e-01,  5.2745e-01, -4.3883e-01, -4.2886e-02,\n",
       "        -2.9015e-01,  1.8785e-01, -1.0337e-01, -4.4119e-01, -5.1261e-02,\n",
       "         2.0449e-01,  5.1017e-01, -3.5474e-01, -1.4657e-02,  5.4777e-01,\n",
       "         3.7965e-01,  5.8551e-01,  1.1018e-01, -2.2964e-01, -8.8088e-02,\n",
       "        -7.2100e-03, -3.1237e-01,  5.4050e-02,  2.2811e-01, -2.7607e-01,\n",
       "         3.8196e-01,  2.2145e-01,  2.2843e-01])"
      ]
     },
     "execution_count": 12,
     "metadata": {},
     "output_type": "execute_result"
    }
   ],
   "source": [
    "text_vector[0]"
   ]
  },
  {
   "cell_type": "markdown",
   "id": "1cc10aba",
   "metadata": {},
   "source": [
    "# Similarity"
   ]
  },
  {
   "cell_type": "code",
   "execution_count": 13,
   "id": "804b2860",
   "metadata": {},
   "outputs": [],
   "source": [
    "import numpy as np\n",
    "\n",
    "def cosine_similarity(v1, v2):\n",
    "    return np.dot(v1, v2)/(np.linalg.norm(v1)*np.linalg.norm(v2))"
   ]
  },
  {
   "cell_type": "code",
   "execution_count": 14,
   "id": "5141d64a",
   "metadata": {},
   "outputs": [],
   "source": [
    "harry_potter = embbed_text(df.loc[1, \"Description\"])[0]\n",
    "test_sentence = embbed_text(\"A normal boy who becomes a wizard\")[0]"
   ]
  },
  {
   "cell_type": "code",
   "execution_count": 15,
   "id": "ab104036",
   "metadata": {},
   "outputs": [
    {
     "data": {
      "text/plain": [
       "0.6423878"
      ]
     },
     "execution_count": 15,
     "metadata": {},
     "output_type": "execute_result"
    }
   ],
   "source": [
    "cosine_similarity(harry_potter, test_sentence)"
   ]
  },
  {
   "cell_type": "code",
   "execution_count": 16,
   "id": "4eaec7c9",
   "metadata": {},
   "outputs": [
    {
     "data": {
      "text/plain": [
       "0.009424428"
      ]
     },
     "execution_count": 16,
     "metadata": {},
     "output_type": "execute_result"
    }
   ],
   "source": [
    "anne_frank = embbed_text(df.loc[3, \"Description\"])[0]\n",
    "cosine_similarity(anne_frank, test_sentence)"
   ]
  },
  {
   "cell_type": "markdown",
   "id": "a8b85abc",
   "metadata": {},
   "source": [
    "# Embbed data"
   ]
  },
  {
   "cell_type": "code",
   "execution_count": null,
   "id": "fe0ff6e0",
   "metadata": {},
   "outputs": [],
   "source": [
    "import time\n",
    "start_time = time.time()\n",
    "\n",
    "df[\"vectors\"] = df[\"Description\"].apply(lambda text: embbed_text(text)[0])\n",
    "\n",
    "end_time = time.time()\n",
    "\n",
    "print(end_time - start_time)"
   ]
  },
  {
   "cell_type": "code",
   "execution_count": null,
   "id": "824f8d98",
   "metadata": {},
   "outputs": [],
   "source": [
    "df.head(5)"
   ]
  },
  {
   "cell_type": "code",
   "execution_count": null,
   "id": "8e2f4067",
   "metadata": {},
   "outputs": [],
   "source": [
    "df.to_csv(\"embedded_data.csv\", encoding='utf-8')"
   ]
  },
  {
   "cell_type": "code",
   "execution_count": null,
   "id": "6525f25a",
   "metadata": {},
   "outputs": [],
   "source": [
    "# TODOs\n",
    "# KNN\n",
    "# FAISS und andere algorithmen zum Beschleungigen"
   ]
  }
 ],
 "metadata": {
  "kernelspec": {
   "display_name": "goodreads-ss",
   "language": "python",
   "name": "goodreads-ss"
  },
  "language_info": {
   "codemirror_mode": {
    "name": "ipython",
    "version": 3
   },
   "file_extension": ".py",
   "mimetype": "text/x-python",
   "name": "python",
   "nbconvert_exporter": "python",
   "pygments_lexer": "ipython3",
   "version": "3.10.5"
  }
 },
 "nbformat": 4,
 "nbformat_minor": 5
}
