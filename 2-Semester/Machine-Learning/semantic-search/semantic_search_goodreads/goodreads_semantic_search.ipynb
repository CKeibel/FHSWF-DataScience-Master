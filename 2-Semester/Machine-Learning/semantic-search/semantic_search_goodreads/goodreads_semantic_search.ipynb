{
 "cells": [
  {
   "cell_type": "code",
   "execution_count": 1,
   "id": "2c5496fe",
   "metadata": {},
   "outputs": [],
   "source": [
    "import pandas as pd"
   ]
  },
  {
   "cell_type": "markdown",
   "id": "1d549d1e",
   "metadata": {},
   "source": [
    "# Load dataset"
   ]
  },
  {
   "cell_type": "code",
   "execution_count": 2,
   "id": "b4985284",
   "metadata": {},
   "outputs": [
    {
     "name": "stdout",
     "output_type": "stream",
     "text": [
      "embedded_data.csv               goodreads_semantic_search.ipynb\r\n",
      "goodreads_data.csv              readme.md\r\n"
     ]
    }
   ],
   "source": [
    "!ls"
   ]
  },
  {
   "cell_type": "code",
   "execution_count": 3,
   "id": "700ae160",
   "metadata": {},
   "outputs": [
    {
     "data": {
      "text/html": [
       "<div>\n",
       "<style scoped>\n",
       "    .dataframe tbody tr th:only-of-type {\n",
       "        vertical-align: middle;\n",
       "    }\n",
       "\n",
       "    .dataframe tbody tr th {\n",
       "        vertical-align: top;\n",
       "    }\n",
       "\n",
       "    .dataframe thead th {\n",
       "        text-align: right;\n",
       "    }\n",
       "</style>\n",
       "<table border=\"1\" class=\"dataframe\">\n",
       "  <thead>\n",
       "    <tr style=\"text-align: right;\">\n",
       "      <th></th>\n",
       "      <th>Book</th>\n",
       "      <th>Author</th>\n",
       "      <th>Description</th>\n",
       "      <th>Genres</th>\n",
       "      <th>Avg_Rating</th>\n",
       "      <th>Num_Ratings</th>\n",
       "      <th>URL</th>\n",
       "    </tr>\n",
       "  </thead>\n",
       "  <tbody>\n",
       "    <tr>\n",
       "      <th>0</th>\n",
       "      <td>To Kill a Mockingbird</td>\n",
       "      <td>Harper Lee</td>\n",
       "      <td>The unforgettable novel of a childhood in a sl...</td>\n",
       "      <td>['Classics', 'Fiction', 'Historical Fiction', ...</td>\n",
       "      <td>4.27</td>\n",
       "      <td>5,691,311</td>\n",
       "      <td>https://www.goodreads.com/book/show/2657.To_Ki...</td>\n",
       "    </tr>\n",
       "    <tr>\n",
       "      <th>1</th>\n",
       "      <td>Harry Potter and the Philosopher’s Stone (Harr...</td>\n",
       "      <td>J.K. Rowling</td>\n",
       "      <td>Harry Potter thinks he is an ordinary boy - un...</td>\n",
       "      <td>['Fantasy', 'Fiction', 'Young Adult', 'Magic',...</td>\n",
       "      <td>4.47</td>\n",
       "      <td>9,278,135</td>\n",
       "      <td>https://www.goodreads.com/book/show/72193.Harr...</td>\n",
       "    </tr>\n",
       "    <tr>\n",
       "      <th>2</th>\n",
       "      <td>Pride and Prejudice</td>\n",
       "      <td>Jane Austen</td>\n",
       "      <td>Since its immediate success in 1813, Pride and...</td>\n",
       "      <td>['Classics', 'Fiction', 'Romance', 'Historical...</td>\n",
       "      <td>4.28</td>\n",
       "      <td>3,944,155</td>\n",
       "      <td>https://www.goodreads.com/book/show/1885.Pride...</td>\n",
       "    </tr>\n",
       "    <tr>\n",
       "      <th>3</th>\n",
       "      <td>The Diary of a Young Girl</td>\n",
       "      <td>Anne Frank</td>\n",
       "      <td>Discovered in the attic in which she spent the...</td>\n",
       "      <td>['Classics', 'Nonfiction', 'History', 'Biograp...</td>\n",
       "      <td>4.18</td>\n",
       "      <td>3,488,438</td>\n",
       "      <td>https://www.goodreads.com/book/show/48855.The_...</td>\n",
       "    </tr>\n",
       "    <tr>\n",
       "      <th>4</th>\n",
       "      <td>Animal Farm</td>\n",
       "      <td>George Orwell</td>\n",
       "      <td>Librarian's note: There is an Alternate Cover ...</td>\n",
       "      <td>['Classics', 'Fiction', 'Dystopia', 'Fantasy',...</td>\n",
       "      <td>3.98</td>\n",
       "      <td>3,575,172</td>\n",
       "      <td>https://www.goodreads.com/book/show/170448.Ani...</td>\n",
       "    </tr>\n",
       "  </tbody>\n",
       "</table>\n",
       "</div>"
      ],
      "text/plain": [
       "                                                Book         Author  \\\n",
       "0                              To Kill a Mockingbird     Harper Lee   \n",
       "1  Harry Potter and the Philosopher’s Stone (Harr...   J.K. Rowling   \n",
       "2                                Pride and Prejudice    Jane Austen   \n",
       "3                          The Diary of a Young Girl     Anne Frank   \n",
       "4                                        Animal Farm  George Orwell   \n",
       "\n",
       "                                         Description  \\\n",
       "0  The unforgettable novel of a childhood in a sl...   \n",
       "1  Harry Potter thinks he is an ordinary boy - un...   \n",
       "2  Since its immediate success in 1813, Pride and...   \n",
       "3  Discovered in the attic in which she spent the...   \n",
       "4  Librarian's note: There is an Alternate Cover ...   \n",
       "\n",
       "                                              Genres  Avg_Rating Num_Ratings  \\\n",
       "0  ['Classics', 'Fiction', 'Historical Fiction', ...        4.27   5,691,311   \n",
       "1  ['Fantasy', 'Fiction', 'Young Adult', 'Magic',...        4.47   9,278,135   \n",
       "2  ['Classics', 'Fiction', 'Romance', 'Historical...        4.28   3,944,155   \n",
       "3  ['Classics', 'Nonfiction', 'History', 'Biograp...        4.18   3,488,438   \n",
       "4  ['Classics', 'Fiction', 'Dystopia', 'Fantasy',...        3.98   3,575,172   \n",
       "\n",
       "                                                 URL  \n",
       "0  https://www.goodreads.com/book/show/2657.To_Ki...  \n",
       "1  https://www.goodreads.com/book/show/72193.Harr...  \n",
       "2  https://www.goodreads.com/book/show/1885.Pride...  \n",
       "3  https://www.goodreads.com/book/show/48855.The_...  \n",
       "4  https://www.goodreads.com/book/show/170448.Ani...  "
      ]
     },
     "execution_count": 3,
     "metadata": {},
     "output_type": "execute_result"
    }
   ],
   "source": [
    "df = pd.read_csv(\"goodreads_data.csv\", index_col=0)\n",
    "df.head(5)"
   ]
  },
  {
   "cell_type": "code",
   "execution_count": 4,
   "id": "f7876de6",
   "metadata": {},
   "outputs": [
    {
     "data": {
      "text/plain": [
       "'Harry Potter thinks he is an ordinary boy - until he is rescued by an owl, taken to Hogwarts School of Witchcraft and Wizardry, learns to play Quidditch and does battle in a deadly duel. The Reason ... HARRY POTTER IS A WIZARD!'"
      ]
     },
     "execution_count": 4,
     "metadata": {},
     "output_type": "execute_result"
    }
   ],
   "source": [
    "df.loc[1, \"Description\"]"
   ]
  },
  {
   "cell_type": "code",
   "execution_count": 5,
   "id": "cb64a79e",
   "metadata": {},
   "outputs": [
    {
     "data": {
      "text/plain": [
       "10000"
      ]
     },
     "execution_count": 5,
     "metadata": {},
     "output_type": "execute_result"
    }
   ],
   "source": [
    "len(df)"
   ]
  },
  {
   "cell_type": "markdown",
   "id": "66bf21b0",
   "metadata": {},
   "source": [
    "## data preprocessing"
   ]
  },
  {
   "cell_type": "code",
   "execution_count": 6,
   "id": "5669d51d",
   "metadata": {},
   "outputs": [
    {
     "data": {
      "text/plain": [
       "True"
      ]
     },
     "execution_count": 6,
     "metadata": {},
     "output_type": "execute_result"
    }
   ],
   "source": [
    "df[\"Description\"].isnull().values.any()"
   ]
  },
  {
   "cell_type": "code",
   "execution_count": 7,
   "id": "a63786a9",
   "metadata": {},
   "outputs": [
    {
     "data": {
      "text/plain": [
       "False"
      ]
     },
     "execution_count": 7,
     "metadata": {},
     "output_type": "execute_result"
    }
   ],
   "source": [
    "df = df[~df[\"Description\"].isnull().values]\n",
    "df[\"Description\"].isnull().values.any()"
   ]
  },
  {
   "cell_type": "code",
   "execution_count": 8,
   "id": "3cf37320",
   "metadata": {},
   "outputs": [
    {
     "data": {
      "text/plain": [
       "True"
      ]
     },
     "execution_count": 8,
     "metadata": {},
     "output_type": "execute_result"
    }
   ],
   "source": [
    "df[\"Description\"].map(type).eq(str).all()"
   ]
  },
  {
   "cell_type": "markdown",
   "id": "5740639f",
   "metadata": {},
   "source": [
    "# Embed description"
   ]
  },
  {
   "cell_type": "code",
   "execution_count": 9,
   "id": "a55975b0",
   "metadata": {},
   "outputs": [
    {
     "name": "stderr",
     "output_type": "stream",
     "text": [
      "/Users/christopherkeibel/Documents/Workspace/fh-swf/00 - Github/FHSWF-DataScience-Master/2-Semester/Machine-Learning/semantic-search/semantic_search_goodreads/.goodreads-ss/lib/python3.10/site-packages/tqdm/auto.py:21: TqdmWarning: IProgress not found. Please update jupyter and ipywidgets. See https://ipywidgets.readthedocs.io/en/stable/user_install.html\n",
      "  from .autonotebook import tqdm as notebook_tqdm\n"
     ]
    }
   ],
   "source": [
    "import torch\n",
    "from transformers import AutoTokenizer, AutoModel"
   ]
  },
  {
   "cell_type": "code",
   "execution_count": 10,
   "id": "f9fdce95",
   "metadata": {},
   "outputs": [],
   "source": [
    "def embed_text(text: str):\n",
    "    model_id = \"sentence-transformers/all-MiniLM-L6-v2\"\n",
    "    # model_id =\"sentence-transformers/paraphrase-xlm-r-multilingual-v1\"\n",
    "    tokenizer = AutoTokenizer.from_pretrained(model_id)\n",
    "    encoded_input = tokenizer(text, padding=True, truncation=True, return_tensors='pt')\n",
    "    \n",
    "    model = AutoModel.from_pretrained(model_id)\n",
    "    \n",
    "    with torch.no_grad():\n",
    "        model_output = model(**encoded_input)\n",
    "        \n",
    "    token_embeddings = model_output[0]\n",
    "    input_mask_expanded = encoded_input['attention_mask'].unsqueeze(-1).expand(token_embeddings.size()).float()\n",
    "    return torch.sum(token_embeddings * input_mask_expanded, 1) / torch.clamp(input_mask_expanded.sum(1), min=1e-9)"
   ]
  },
  {
   "cell_type": "code",
   "execution_count": 11,
   "id": "ac4e4065",
   "metadata": {},
   "outputs": [
    {
     "data": {
      "text/plain": [
       "torch.Size([1, 384])"
      ]
     },
     "execution_count": 11,
     "metadata": {},
     "output_type": "execute_result"
    }
   ],
   "source": [
    "text_vector = embed_text('Harry Potter thinks he is an ordinary boy - until he is rescued by an owl, taken to Hogwarts School of Witchcraft and Wizardry, learns to play Quidditch and does battle in a deadly duel.')\n",
    "text_vector.shape"
   ]
  },
  {
   "cell_type": "code",
   "execution_count": 12,
   "id": "e325b109",
   "metadata": {},
   "outputs": [
    {
     "data": {
      "text/plain": [
       "tensor([ 4.2993e-02,  1.9790e-01,  9.8992e-02, -1.5816e-01, -1.6097e-01,\n",
       "        -3.2356e-01,  4.0950e-01, -1.5431e-01, -1.2849e-01, -1.2688e-01,\n",
       "         2.5054e-02, -1.8622e-01, -4.0656e-01,  3.0986e-01,  1.5803e-01,\n",
       "        -1.2521e-01,  1.2770e-01, -8.3968e-02, -1.3942e-01,  1.1383e-01,\n",
       "        -1.8851e-01,  2.3556e-01,  1.4153e-01, -1.5108e-01, -3.2936e-02,\n",
       "        -1.5616e-01,  1.9694e-01,  2.2613e-02, -1.0271e-01,  6.3527e-02,\n",
       "         7.5810e-02, -1.2322e-01, -2.8831e-01, -1.1784e-01, -2.6006e-01,\n",
       "         7.0224e-02,  1.2808e-01,  3.0344e-01,  2.8782e-01, -1.3410e-01,\n",
       "        -2.5474e-01, -1.0768e-01, -4.1185e-01,  4.6213e-02, -7.5831e-02,\n",
       "         2.4211e-03, -2.2581e-01, -1.1629e-01, -5.5889e-02,  3.4285e-02,\n",
       "        -1.7312e-01,  4.3307e-02, -1.7202e-01,  9.9613e-02,  2.1858e-01,\n",
       "         1.1413e-01,  2.4236e-01,  3.0370e-02,  2.3173e-01,  1.0230e-01,\n",
       "        -1.5516e-01,  9.7178e-02, -9.6926e-02,  2.7740e-01, -4.7354e-02,\n",
       "        -1.4012e-01, -1.1380e-01, -7.5994e-02,  1.1229e-01, -9.8941e-02,\n",
       "         2.0891e-02,  4.6130e-02,  2.1979e-01, -1.0374e-01,  1.8752e-01,\n",
       "        -3.3234e-02, -1.7270e-01, -6.7562e-02,  2.5993e-01,  9.2930e-02,\n",
       "        -1.2451e-01, -1.0334e-01, -1.8316e-01,  1.4522e-01,  2.1488e-01,\n",
       "        -2.1855e-01,  1.0319e-01, -3.4544e-02, -2.6018e-01,  1.6492e-01,\n",
       "         1.3529e-02,  1.9058e-01,  5.3793e-02,  1.3983e-01,  2.5749e-01,\n",
       "         2.7989e-01,  1.3861e-02, -7.9913e-02, -4.0259e-01,  1.2434e-01,\n",
       "         2.8180e-01,  5.0514e-02,  3.4083e-01,  2.0700e-02,  1.5366e-01,\n",
       "         2.6796e-02,  1.5794e-01, -2.3118e-01,  7.7953e-02,  2.6643e-02,\n",
       "         4.3276e-02, -2.1602e-01,  1.1646e-02, -1.2879e-01,  7.4975e-02,\n",
       "        -1.3388e-01, -1.5619e-01, -7.0268e-02, -3.0668e-01, -1.8531e-01,\n",
       "         3.5613e-02,  3.4522e-01,  1.0192e-01,  1.9606e-01,  1.0229e-01,\n",
       "         3.9422e-03, -9.5866e-02, -7.1438e-33,  8.2935e-02, -8.6570e-04,\n",
       "        -3.2060e-02,  6.9673e-02,  6.0527e-02,  2.1297e-01,  5.1016e-02,\n",
       "         3.1997e-02, -2.5656e-01,  6.2344e-02, -1.7417e-01, -2.8249e-01,\n",
       "        -2.2739e-01,  1.8129e-01, -1.9241e-01,  4.5940e-01, -2.0185e-01,\n",
       "        -2.2151e-01, -4.4198e-02,  7.4771e-02,  1.5598e-01,  2.3740e-01,\n",
       "        -2.2440e-02,  7.4805e-02, -1.2975e-02,  6.3898e-02, -1.4231e-01,\n",
       "        -9.6051e-02, -2.4428e-01,  2.4019e-02,  4.7366e-02,  7.0176e-02,\n",
       "        -2.3085e-01, -3.2753e-02, -2.7927e-01, -2.2894e-01,  9.6539e-02,\n",
       "        -1.6804e-01,  5.9010e-02,  9.2662e-02, -1.0336e-01, -1.5180e-01,\n",
       "        -7.7903e-02, -3.2816e-02, -1.2970e-01,  1.0333e-02, -1.3106e-01,\n",
       "         1.2965e-01, -1.6856e-01, -9.8553e-02,  2.0386e-01, -1.1464e-01,\n",
       "        -7.4832e-02, -3.1424e-01, -2.2339e-01,  1.5257e-01,  1.8057e-01,\n",
       "         2.1406e-01,  1.7278e-02, -3.5666e-02,  2.1048e-01, -1.9269e-01,\n",
       "         1.7438e-01,  9.4412e-02, -6.9696e-03, -1.9094e-01, -3.9037e-02,\n",
       "        -1.8382e-02, -1.1748e-01, -9.4866e-02,  1.6765e-02, -1.6124e-01,\n",
       "        -5.0392e-02, -3.4700e-01, -1.9627e-01, -2.6213e-01,  7.7913e-03,\n",
       "        -6.8456e-02, -2.7797e-01,  1.7257e-01,  1.6125e-01,  1.4533e-01,\n",
       "        -1.4859e-01, -1.1503e-01, -6.4569e-02, -3.3558e-01, -1.6329e-02,\n",
       "        -1.9742e-01,  3.0767e-01,  1.3089e-01,  2.0943e-01,  2.0432e-02,\n",
       "        -3.2627e-01, -2.4849e-01,  4.6739e-02, -9.0867e-33,  1.5691e-01,\n",
       "        -8.3575e-02,  1.0564e-01, -1.3961e-01, -1.5209e-01, -5.1878e-02,\n",
       "        -1.1397e-03,  3.0366e-01,  1.7023e-01, -6.8480e-02, -2.4481e-01,\n",
       "         1.6390e-01,  6.2571e-02, -6.7309e-02,  1.2754e-01, -5.6242e-02,\n",
       "        -2.3486e-01,  1.9549e-01,  1.8776e-01,  4.1461e-02,  3.3125e-01,\n",
       "         7.4993e-02, -2.0749e-01, -1.8590e-01,  4.7366e-02, -1.0856e-01,\n",
       "        -2.1342e-02,  4.6176e-02, -5.4340e-02,  6.2492e-02,  1.2489e-01,\n",
       "        -1.6544e-01,  5.7861e-02, -6.5192e-02,  1.4840e-01,  6.4963e-02,\n",
       "        -7.6499e-02, -1.1301e-01, -2.8261e-01, -8.0509e-02, -7.2381e-02,\n",
       "        -4.3183e-02, -8.5461e-02, -4.2893e-02,  1.6574e-01, -3.4683e-02,\n",
       "         2.1303e-01,  2.9074e-01, -1.4551e-01,  1.3224e-01, -2.5075e-02,\n",
       "         1.2907e-01,  7.2106e-02, -7.2820e-02,  1.2840e-01,  7.1967e-02,\n",
       "        -1.2184e-01, -1.7292e-01, -6.5478e-02,  5.0156e-02, -9.2894e-02,\n",
       "        -3.2129e-01, -1.4495e-03,  2.7744e-01, -2.3685e-01,  7.5037e-02,\n",
       "        -4.1427e-01,  3.1602e-02, -1.3738e-02, -1.7720e-01,  2.2027e-01,\n",
       "         1.2735e-01, -8.5295e-02, -2.3367e-01,  1.1120e-01,  2.1393e-01,\n",
       "        -1.0059e-02,  1.0202e-01,  3.4129e-02,  5.4729e-02,  1.6067e-01,\n",
       "         5.4215e-02,  1.5497e-01, -1.2403e-01, -1.5376e-01, -3.1903e-01,\n",
       "         3.1344e-02,  1.1612e-02,  1.2821e-01, -2.3297e-01,  3.2253e-01,\n",
       "         3.1136e-01,  6.9256e-02,  6.2293e-03,  1.6601e-02, -1.0006e-07,\n",
       "        -2.9673e-01,  1.3239e-01,  1.2052e-01,  3.6392e-02,  1.0366e-01,\n",
       "         2.1503e-01, -9.3344e-03, -3.0624e-01, -1.8492e-01,  2.4978e-01,\n",
       "        -6.3661e-02, -1.8464e-01, -6.3582e-02, -2.0533e-01,  3.3872e-01,\n",
       "         3.0643e-02,  1.8826e-01, -1.1657e-01, -5.2846e-02,  2.5646e-01,\n",
       "         4.4503e-02,  1.5506e-01,  6.4606e-02,  2.5191e-01, -6.5394e-02,\n",
       "        -4.5722e-02,  6.3867e-02, -3.5654e-01, -6.7253e-02,  1.6566e-01,\n",
       "         7.2302e-02,  1.5333e-01,  8.8947e-02, -1.9694e-01, -1.1147e-01,\n",
       "         9.2447e-02, -3.6425e-02,  1.1329e-01,  2.1885e-01, -4.3140e-01,\n",
       "         2.6003e-02, -2.8638e-01,  2.4699e-02, -1.3677e-01, -1.8805e-01,\n",
       "         1.1381e-01, -9.3054e-02, -4.2654e-02,  1.9503e-01,  3.5658e-01,\n",
       "        -3.1022e-02,  1.5594e-01,  3.2052e-01, -2.7926e-01,  1.7023e-01,\n",
       "        -1.4522e-01, -1.5333e-01,  1.7628e-01, -8.3540e-02, -8.9651e-02,\n",
       "         4.6139e-01,  2.5335e-01,  8.0233e-02, -7.5720e-02])"
      ]
     },
     "execution_count": 12,
     "metadata": {},
     "output_type": "execute_result"
    }
   ],
   "source": [
    "text_vector[0]"
   ]
  },
  {
   "cell_type": "markdown",
   "id": "66c76d08",
   "metadata": {},
   "source": [
    "# Similarity"
   ]
  },
  {
   "cell_type": "code",
   "execution_count": 13,
   "id": "a6d27462",
   "metadata": {},
   "outputs": [],
   "source": [
    "import numpy as np\n",
    "\n",
    "def cosine_similarity(v1, v2):\n",
    "    return np.dot(v1, v2)/(np.linalg.norm(v1)*np.linalg.norm(v2))"
   ]
  },
  {
   "cell_type": "code",
   "execution_count": 14,
   "id": "c75bcebe",
   "metadata": {},
   "outputs": [],
   "source": [
    "harry_potter = embed_text(df.loc[1, \"Description\"])[0]\n",
    "test_sentence = embed_text(\"A normal boy who becomes a wizard\")[0]"
   ]
  },
  {
   "cell_type": "code",
   "execution_count": 15,
   "id": "0655b34a",
   "metadata": {},
   "outputs": [
    {
     "data": {
      "text/plain": [
       "0.63204676"
      ]
     },
     "execution_count": 15,
     "metadata": {},
     "output_type": "execute_result"
    }
   ],
   "source": [
    "cosine_similarity(harry_potter, test_sentence)"
   ]
  },
  {
   "cell_type": "code",
   "execution_count": 16,
   "id": "ef9ff840",
   "metadata": {},
   "outputs": [
    {
     "data": {
      "text/plain": [
       "0.08396207"
      ]
     },
     "execution_count": 16,
     "metadata": {},
     "output_type": "execute_result"
    }
   ],
   "source": [
    "anne_frank = embed_text(df.loc[3, \"Description\"])[0]\n",
    "cosine_similarity(anne_frank, test_sentence)"
   ]
  },
  {
   "cell_type": "markdown",
   "id": "460a195a",
   "metadata": {},
   "source": [
    "# Embed data"
   ]
  },
  {
   "cell_type": "code",
   "execution_count": 17,
   "id": "26e2b0a2",
   "metadata": {},
   "outputs": [
    {
     "name": "stdout",
     "output_type": "stream",
     "text": [
      "54.720436811447144\n"
     ]
    },
    {
     "name": "stderr",
     "output_type": "stream",
     "text": [
      "/var/folders/bc/vd20_1_n0n32d894y36jkj280000gn/T/ipykernel_4751/64037000.py:5: SettingWithCopyWarning: \n",
      "A value is trying to be set on a copy of a slice from a DataFrame.\n",
      "Try using .loc[row_indexer,col_indexer] = value instead\n",
      "\n",
      "See the caveats in the documentation: https://pandas.pydata.org/pandas-docs/stable/user_guide/indexing.html#returning-a-view-versus-a-copy\n",
      "  test_data[\"vector\"] = test_data[\"Description\"].apply(lambda text: embed_text(text)[0])\n"
     ]
    }
   ],
   "source": [
    "import time\n",
    "start_time = time.time()\n",
    "\n",
    "test_data = df.iloc[:100]\n",
    "test_data[\"vector\"] = test_data[\"Description\"].apply(lambda text: embed_text(text)[0])\n",
    "\n",
    "end_time = time.time()\n",
    "\n",
    "print(end_time - start_time)"
   ]
  },
  {
   "cell_type": "code",
   "execution_count": 18,
   "id": "5555b453",
   "metadata": {},
   "outputs": [
    {
     "data": {
      "text/html": [
       "<div>\n",
       "<style scoped>\n",
       "    .dataframe tbody tr th:only-of-type {\n",
       "        vertical-align: middle;\n",
       "    }\n",
       "\n",
       "    .dataframe tbody tr th {\n",
       "        vertical-align: top;\n",
       "    }\n",
       "\n",
       "    .dataframe thead th {\n",
       "        text-align: right;\n",
       "    }\n",
       "</style>\n",
       "<table border=\"1\" class=\"dataframe\">\n",
       "  <thead>\n",
       "    <tr style=\"text-align: right;\">\n",
       "      <th></th>\n",
       "      <th>Book</th>\n",
       "      <th>Author</th>\n",
       "      <th>Description</th>\n",
       "      <th>Genres</th>\n",
       "      <th>Avg_Rating</th>\n",
       "      <th>Num_Ratings</th>\n",
       "      <th>URL</th>\n",
       "      <th>vector</th>\n",
       "    </tr>\n",
       "  </thead>\n",
       "  <tbody>\n",
       "    <tr>\n",
       "      <th>0</th>\n",
       "      <td>To Kill a Mockingbird</td>\n",
       "      <td>Harper Lee</td>\n",
       "      <td>The unforgettable novel of a childhood in a sl...</td>\n",
       "      <td>['Classics', 'Fiction', 'Historical Fiction', ...</td>\n",
       "      <td>4.27</td>\n",
       "      <td>5,691,311</td>\n",
       "      <td>https://www.goodreads.com/book/show/2657.To_Ki...</td>\n",
       "      <td>[tensor(0.0377), tensor(0.0389), tensor(-0.065...</td>\n",
       "    </tr>\n",
       "    <tr>\n",
       "      <th>1</th>\n",
       "      <td>Harry Potter and the Philosopher’s Stone (Harr...</td>\n",
       "      <td>J.K. Rowling</td>\n",
       "      <td>Harry Potter thinks he is an ordinary boy - un...</td>\n",
       "      <td>['Fantasy', 'Fiction', 'Young Adult', 'Magic',...</td>\n",
       "      <td>4.47</td>\n",
       "      <td>9,278,135</td>\n",
       "      <td>https://www.goodreads.com/book/show/72193.Harr...</td>\n",
       "      <td>[tensor(0.0345), tensor(0.1521), tensor(0.1143...</td>\n",
       "    </tr>\n",
       "    <tr>\n",
       "      <th>2</th>\n",
       "      <td>Pride and Prejudice</td>\n",
       "      <td>Jane Austen</td>\n",
       "      <td>Since its immediate success in 1813, Pride and...</td>\n",
       "      <td>['Classics', 'Fiction', 'Romance', 'Historical...</td>\n",
       "      <td>4.28</td>\n",
       "      <td>3,944,155</td>\n",
       "      <td>https://www.goodreads.com/book/show/1885.Pride...</td>\n",
       "      <td>[tensor(-0.1175), tensor(-0.1331), tensor(0.07...</td>\n",
       "    </tr>\n",
       "    <tr>\n",
       "      <th>3</th>\n",
       "      <td>The Diary of a Young Girl</td>\n",
       "      <td>Anne Frank</td>\n",
       "      <td>Discovered in the attic in which she spent the...</td>\n",
       "      <td>['Classics', 'Nonfiction', 'History', 'Biograp...</td>\n",
       "      <td>4.18</td>\n",
       "      <td>3,488,438</td>\n",
       "      <td>https://www.goodreads.com/book/show/48855.The_...</td>\n",
       "      <td>[tensor(0.0041), tensor(0.1269), tensor(-0.008...</td>\n",
       "    </tr>\n",
       "    <tr>\n",
       "      <th>4</th>\n",
       "      <td>Animal Farm</td>\n",
       "      <td>George Orwell</td>\n",
       "      <td>Librarian's note: There is an Alternate Cover ...</td>\n",
       "      <td>['Classics', 'Fiction', 'Dystopia', 'Fantasy',...</td>\n",
       "      <td>3.98</td>\n",
       "      <td>3,575,172</td>\n",
       "      <td>https://www.goodreads.com/book/show/170448.Ani...</td>\n",
       "      <td>[tensor(-0.0434), tensor(0.0593), tensor(-0.06...</td>\n",
       "    </tr>\n",
       "  </tbody>\n",
       "</table>\n",
       "</div>"
      ],
      "text/plain": [
       "                                                Book         Author  \\\n",
       "0                              To Kill a Mockingbird     Harper Lee   \n",
       "1  Harry Potter and the Philosopher’s Stone (Harr...   J.K. Rowling   \n",
       "2                                Pride and Prejudice    Jane Austen   \n",
       "3                          The Diary of a Young Girl     Anne Frank   \n",
       "4                                        Animal Farm  George Orwell   \n",
       "\n",
       "                                         Description  \\\n",
       "0  The unforgettable novel of a childhood in a sl...   \n",
       "1  Harry Potter thinks he is an ordinary boy - un...   \n",
       "2  Since its immediate success in 1813, Pride and...   \n",
       "3  Discovered in the attic in which she spent the...   \n",
       "4  Librarian's note: There is an Alternate Cover ...   \n",
       "\n",
       "                                              Genres  Avg_Rating Num_Ratings  \\\n",
       "0  ['Classics', 'Fiction', 'Historical Fiction', ...        4.27   5,691,311   \n",
       "1  ['Fantasy', 'Fiction', 'Young Adult', 'Magic',...        4.47   9,278,135   \n",
       "2  ['Classics', 'Fiction', 'Romance', 'Historical...        4.28   3,944,155   \n",
       "3  ['Classics', 'Nonfiction', 'History', 'Biograp...        4.18   3,488,438   \n",
       "4  ['Classics', 'Fiction', 'Dystopia', 'Fantasy',...        3.98   3,575,172   \n",
       "\n",
       "                                                 URL  \\\n",
       "0  https://www.goodreads.com/book/show/2657.To_Ki...   \n",
       "1  https://www.goodreads.com/book/show/72193.Harr...   \n",
       "2  https://www.goodreads.com/book/show/1885.Pride...   \n",
       "3  https://www.goodreads.com/book/show/48855.The_...   \n",
       "4  https://www.goodreads.com/book/show/170448.Ani...   \n",
       "\n",
       "                                              vector  \n",
       "0  [tensor(0.0377), tensor(0.0389), tensor(-0.065...  \n",
       "1  [tensor(0.0345), tensor(0.1521), tensor(0.1143...  \n",
       "2  [tensor(-0.1175), tensor(-0.1331), tensor(0.07...  \n",
       "3  [tensor(0.0041), tensor(0.1269), tensor(-0.008...  \n",
       "4  [tensor(-0.0434), tensor(0.0593), tensor(-0.06...  "
      ]
     },
     "execution_count": 18,
     "metadata": {},
     "output_type": "execute_result"
    }
   ],
   "source": [
    "test_data.head(5)"
   ]
  },
  {
   "cell_type": "markdown",
   "id": "d2bba505",
   "metadata": {},
   "source": [
    "# Search similarity"
   ]
  },
  {
   "cell_type": "code",
   "execution_count": 19,
   "id": "1b0636da",
   "metadata": {},
   "outputs": [],
   "source": [
    "request = embed_text(\"Boy who became a wizard.\")[0]"
   ]
  },
  {
   "cell_type": "code",
   "execution_count": 23,
   "id": "262b4a63",
   "metadata": {},
   "outputs": [
    {
     "name": "stdout",
     "output_type": "stream",
     "text": [
      "Embed Request: 0.5208179950714111 seconds\n",
      "Response: 0.009649038314819336 seconds\n"
     ]
    },
    {
     "name": "stderr",
     "output_type": "stream",
     "text": [
      "/var/folders/bc/vd20_1_n0n32d894y36jkj280000gn/T/ipykernel_4751/3621500607.py:9: SettingWithCopyWarning: \n",
      "A value is trying to be set on a copy of a slice from a DataFrame.\n",
      "Try using .loc[row_indexer,col_indexer] = value instead\n",
      "\n",
      "See the caveats in the documentation: https://pandas.pydata.org/pandas-docs/stable/user_guide/indexing.html#returning-a-view-versus-a-copy\n",
      "  test_data[\"score\"] = test_data[\"vector\"].apply(lambda vec: cosine_similarity(request, vec))\n",
      "/var/folders/bc/vd20_1_n0n32d894y36jkj280000gn/T/ipykernel_4751/3621500607.py:10: SettingWithCopyWarning: \n",
      "A value is trying to be set on a copy of a slice from a DataFrame\n",
      "\n",
      "See the caveats in the documentation: https://pandas.pydata.org/pandas-docs/stable/user_guide/indexing.html#returning-a-view-versus-a-copy\n",
      "  test_data.sort_values(\"score\", ascending=False, inplace=True)\n"
     ]
    }
   ],
   "source": [
    "start_time = time.time()\n",
    "\n",
    "# calcualte embedding of possible request\n",
    "request = embed_text(\"Boy who became a wizard.\")[0]\n",
    "\n",
    "end_request = time.time()\n",
    "\n",
    "# calucalte similarity scores between request and book description\n",
    "test_data[\"score\"] = test_data[\"vector\"].apply(lambda vec: cosine_similarity(request, vec))\n",
    "test_data.sort_values(\"score\", ascending=False, inplace=True)\n",
    "\n",
    "end_time = time.time()\n",
    "\n",
    "print(f\"Embed Request: {end_request - start_time} seconds\")\n",
    "print(f\"Response: {end_time - end_request} seconds\")"
   ]
  },
  {
   "cell_type": "code",
   "execution_count": 24,
   "id": "934523bb",
   "metadata": {},
   "outputs": [
    {
     "data": {
      "text/html": [
       "<div>\n",
       "<style scoped>\n",
       "    .dataframe tbody tr th:only-of-type {\n",
       "        vertical-align: middle;\n",
       "    }\n",
       "\n",
       "    .dataframe tbody tr th {\n",
       "        vertical-align: top;\n",
       "    }\n",
       "\n",
       "    .dataframe thead th {\n",
       "        text-align: right;\n",
       "    }\n",
       "</style>\n",
       "<table border=\"1\" class=\"dataframe\">\n",
       "  <thead>\n",
       "    <tr style=\"text-align: right;\">\n",
       "      <th></th>\n",
       "      <th>Book</th>\n",
       "      <th>Author</th>\n",
       "      <th>Description</th>\n",
       "      <th>Genres</th>\n",
       "      <th>Avg_Rating</th>\n",
       "      <th>Num_Ratings</th>\n",
       "      <th>URL</th>\n",
       "      <th>vector</th>\n",
       "      <th>score</th>\n",
       "    </tr>\n",
       "  </thead>\n",
       "  <tbody>\n",
       "    <tr>\n",
       "      <th>1</th>\n",
       "      <td>Harry Potter and the Philosopher’s Stone (Harr...</td>\n",
       "      <td>J.K. Rowling</td>\n",
       "      <td>Harry Potter thinks he is an ordinary boy - un...</td>\n",
       "      <td>['Fantasy', 'Fiction', 'Young Adult', 'Magic',...</td>\n",
       "      <td>4.47</td>\n",
       "      <td>9,278,135</td>\n",
       "      <td>https://www.goodreads.com/book/show/72193.Harr...</td>\n",
       "      <td>[tensor(0.0345), tensor(0.1521), tensor(0.1143...</td>\n",
       "      <td>0.595246</td>\n",
       "    </tr>\n",
       "    <tr>\n",
       "      <th>17</th>\n",
       "      <td>The Giver (The Giver, #1)</td>\n",
       "      <td>Lois Lowry</td>\n",
       "      <td>At the age of twelve, Jonas, a young boy from ...</td>\n",
       "      <td>['Young Adult', 'Fiction', 'Classics', 'Dystop...</td>\n",
       "      <td>4.12</td>\n",
       "      <td>2,285,401</td>\n",
       "      <td>https://www.goodreads.com/book/show/3636.The_G...</td>\n",
       "      <td>[tensor(-0.0335), tensor(0.3690), tensor(-0.16...</td>\n",
       "      <td>0.423278</td>\n",
       "    </tr>\n",
       "    <tr>\n",
       "      <th>84</th>\n",
       "      <td>Harry Potter and the Chamber of Secrets (Harry...</td>\n",
       "      <td>J.K. Rowling</td>\n",
       "      <td>Ever since Harry Potter had come home for the ...</td>\n",
       "      <td>['Fantasy', 'Fiction', 'Young Adult', 'Magic',...</td>\n",
       "      <td>4.43</td>\n",
       "      <td>3,597,747</td>\n",
       "      <td>https://www.goodreads.com/book/show/15881.Harr...</td>\n",
       "      <td>[tensor(-0.0252), tensor(0.0513), tensor(0.096...</td>\n",
       "      <td>0.364060</td>\n",
       "    </tr>\n",
       "    <tr>\n",
       "      <th>37</th>\n",
       "      <td>The Adventures of Huckleberry Finn</td>\n",
       "      <td>Mark Twain</td>\n",
       "      <td>A nineteenth-century boy from a Mississippi Ri...</td>\n",
       "      <td>['Classics', 'Fiction', 'Historical Fiction', ...</td>\n",
       "      <td>3.83</td>\n",
       "      <td>1,237,071</td>\n",
       "      <td>https://www.goodreads.com/book/show/2956.The_A...</td>\n",
       "      <td>[tensor(-0.3741), tensor(0.2123), tensor(-0.08...</td>\n",
       "      <td>0.357276</td>\n",
       "    </tr>\n",
       "    <tr>\n",
       "      <th>58</th>\n",
       "      <td>Where the Wild Things Are</td>\n",
       "      <td>Maurice Sendak</td>\n",
       "      <td>Max, a wild and naughty boy, is sent to bed wi...</td>\n",
       "      <td>['Childrens', 'Picture Books', 'Fiction', 'Cla...</td>\n",
       "      <td>4.24</td>\n",
       "      <td>963,323</td>\n",
       "      <td>https://www.goodreads.com/book/show/19543.Wher...</td>\n",
       "      <td>[tensor(0.1523), tensor(0.2483), tensor(-0.081...</td>\n",
       "      <td>0.338852</td>\n",
       "    </tr>\n",
       "    <tr>\n",
       "      <th>...</th>\n",
       "      <td>...</td>\n",
       "      <td>...</td>\n",
       "      <td>...</td>\n",
       "      <td>...</td>\n",
       "      <td>...</td>\n",
       "      <td>...</td>\n",
       "      <td>...</td>\n",
       "      <td>...</td>\n",
       "      <td>...</td>\n",
       "    </tr>\n",
       "    <tr>\n",
       "      <th>21</th>\n",
       "      <td>The Hunger Games (The Hunger Games, #1)</td>\n",
       "      <td>Suzanne Collins</td>\n",
       "      <td>Could you survive on your own in the wild, wit...</td>\n",
       "      <td>['Young Adult', 'Fiction', 'Dystopia', 'Fantas...</td>\n",
       "      <td>4.33</td>\n",
       "      <td>7,963,002</td>\n",
       "      <td>https://www.goodreads.com/book/show/2767052-th...</td>\n",
       "      <td>[tensor(0.1271), tensor(0.0620), tensor(0.0228...</td>\n",
       "      <td>0.046601</td>\n",
       "    </tr>\n",
       "    <tr>\n",
       "      <th>48</th>\n",
       "      <td>A Christmas Carol</td>\n",
       "      <td>Charles Dickens</td>\n",
       "      <td>'If I had my way, every idiot who goes around ...</td>\n",
       "      <td>['Classics', 'Fiction', 'Christmas', 'Fantasy'...</td>\n",
       "      <td>4.07</td>\n",
       "      <td>779,092</td>\n",
       "      <td>https://www.goodreads.com/book/show/5326.A_Chr...</td>\n",
       "      <td>[tensor(-0.0177), tensor(0.1255), tensor(0.021...</td>\n",
       "      <td>0.019640</td>\n",
       "    </tr>\n",
       "    <tr>\n",
       "      <th>52</th>\n",
       "      <td>The Grapes of Wrath</td>\n",
       "      <td>John Steinbeck</td>\n",
       "      <td>The Pulitzer Prize-winning epic of the Great D...</td>\n",
       "      <td>['Classics', 'Fiction', 'Historical Fiction', ...</td>\n",
       "      <td>4.00</td>\n",
       "      <td>864,334</td>\n",
       "      <td>https://www.goodreads.com/book/show/18114322-t...</td>\n",
       "      <td>[tensor(0.0600), tensor(0.0772), tensor(-0.063...</td>\n",
       "      <td>0.016832</td>\n",
       "    </tr>\n",
       "    <tr>\n",
       "      <th>39</th>\n",
       "      <td>Les Misérables</td>\n",
       "      <td>Victor Hugo</td>\n",
       "      <td>Victor Hugo's tale of injustice, heroism and l...</td>\n",
       "      <td>['Classics', 'Fiction', 'Historical Fiction', ...</td>\n",
       "      <td>4.20</td>\n",
       "      <td>769,757</td>\n",
       "      <td>https://www.goodreads.com/book/show/24280.Les_...</td>\n",
       "      <td>[tensor(-0.1524), tensor(0.0338), tensor(0.026...</td>\n",
       "      <td>-0.001694</td>\n",
       "    </tr>\n",
       "    <tr>\n",
       "      <th>2</th>\n",
       "      <td>Pride and Prejudice</td>\n",
       "      <td>Jane Austen</td>\n",
       "      <td>Since its immediate success in 1813, Pride and...</td>\n",
       "      <td>['Classics', 'Fiction', 'Romance', 'Historical...</td>\n",
       "      <td>4.28</td>\n",
       "      <td>3,944,155</td>\n",
       "      <td>https://www.goodreads.com/book/show/1885.Pride...</td>\n",
       "      <td>[tensor(-0.1175), tensor(-0.1331), tensor(0.07...</td>\n",
       "      <td>-0.007809</td>\n",
       "    </tr>\n",
       "  </tbody>\n",
       "</table>\n",
       "<p>100 rows × 9 columns</p>\n",
       "</div>"
      ],
      "text/plain": [
       "                                                 Book           Author  \\\n",
       "1   Harry Potter and the Philosopher’s Stone (Harr...     J.K. Rowling   \n",
       "17                          The Giver (The Giver, #1)       Lois Lowry   \n",
       "84  Harry Potter and the Chamber of Secrets (Harry...     J.K. Rowling   \n",
       "37                 The Adventures of Huckleberry Finn       Mark Twain   \n",
       "58                          Where the Wild Things Are   Maurice Sendak   \n",
       "..                                                ...              ...   \n",
       "21            The Hunger Games (The Hunger Games, #1)  Suzanne Collins   \n",
       "48                                  A Christmas Carol  Charles Dickens   \n",
       "52                                The Grapes of Wrath   John Steinbeck   \n",
       "39                                     Les Misérables      Victor Hugo   \n",
       "2                                 Pride and Prejudice      Jane Austen   \n",
       "\n",
       "                                          Description  \\\n",
       "1   Harry Potter thinks he is an ordinary boy - un...   \n",
       "17  At the age of twelve, Jonas, a young boy from ...   \n",
       "84  Ever since Harry Potter had come home for the ...   \n",
       "37  A nineteenth-century boy from a Mississippi Ri...   \n",
       "58  Max, a wild and naughty boy, is sent to bed wi...   \n",
       "..                                                ...   \n",
       "21  Could you survive on your own in the wild, wit...   \n",
       "48  'If I had my way, every idiot who goes around ...   \n",
       "52  The Pulitzer Prize-winning epic of the Great D...   \n",
       "39  Victor Hugo's tale of injustice, heroism and l...   \n",
       "2   Since its immediate success in 1813, Pride and...   \n",
       "\n",
       "                                               Genres  Avg_Rating Num_Ratings  \\\n",
       "1   ['Fantasy', 'Fiction', 'Young Adult', 'Magic',...        4.47   9,278,135   \n",
       "17  ['Young Adult', 'Fiction', 'Classics', 'Dystop...        4.12   2,285,401   \n",
       "84  ['Fantasy', 'Fiction', 'Young Adult', 'Magic',...        4.43   3,597,747   \n",
       "37  ['Classics', 'Fiction', 'Historical Fiction', ...        3.83   1,237,071   \n",
       "58  ['Childrens', 'Picture Books', 'Fiction', 'Cla...        4.24     963,323   \n",
       "..                                                ...         ...         ...   \n",
       "21  ['Young Adult', 'Fiction', 'Dystopia', 'Fantas...        4.33   7,963,002   \n",
       "48  ['Classics', 'Fiction', 'Christmas', 'Fantasy'...        4.07     779,092   \n",
       "52  ['Classics', 'Fiction', 'Historical Fiction', ...        4.00     864,334   \n",
       "39  ['Classics', 'Fiction', 'Historical Fiction', ...        4.20     769,757   \n",
       "2   ['Classics', 'Fiction', 'Romance', 'Historical...        4.28   3,944,155   \n",
       "\n",
       "                                                  URL  \\\n",
       "1   https://www.goodreads.com/book/show/72193.Harr...   \n",
       "17  https://www.goodreads.com/book/show/3636.The_G...   \n",
       "84  https://www.goodreads.com/book/show/15881.Harr...   \n",
       "37  https://www.goodreads.com/book/show/2956.The_A...   \n",
       "58  https://www.goodreads.com/book/show/19543.Wher...   \n",
       "..                                                ...   \n",
       "21  https://www.goodreads.com/book/show/2767052-th...   \n",
       "48  https://www.goodreads.com/book/show/5326.A_Chr...   \n",
       "52  https://www.goodreads.com/book/show/18114322-t...   \n",
       "39  https://www.goodreads.com/book/show/24280.Les_...   \n",
       "2   https://www.goodreads.com/book/show/1885.Pride...   \n",
       "\n",
       "                                               vector     score  \n",
       "1   [tensor(0.0345), tensor(0.1521), tensor(0.1143...  0.595246  \n",
       "17  [tensor(-0.0335), tensor(0.3690), tensor(-0.16...  0.423278  \n",
       "84  [tensor(-0.0252), tensor(0.0513), tensor(0.096...  0.364060  \n",
       "37  [tensor(-0.3741), tensor(0.2123), tensor(-0.08...  0.357276  \n",
       "58  [tensor(0.1523), tensor(0.2483), tensor(-0.081...  0.338852  \n",
       "..                                                ...       ...  \n",
       "21  [tensor(0.1271), tensor(0.0620), tensor(0.0228...  0.046601  \n",
       "48  [tensor(-0.0177), tensor(0.1255), tensor(0.021...  0.019640  \n",
       "52  [tensor(0.0600), tensor(0.0772), tensor(-0.063...  0.016832  \n",
       "39  [tensor(-0.1524), tensor(0.0338), tensor(0.026... -0.001694  \n",
       "2   [tensor(-0.1175), tensor(-0.1331), tensor(0.07... -0.007809  \n",
       "\n",
       "[100 rows x 9 columns]"
      ]
     },
     "execution_count": 24,
     "metadata": {},
     "output_type": "execute_result"
    }
   ],
   "source": [
    "test_data"
   ]
  },
  {
   "cell_type": "code",
   "execution_count": 22,
   "id": "fd3fb73e",
   "metadata": {},
   "outputs": [],
   "source": [
    "# TODOs\n",
    "# KNN\n",
    "# FAISS und andere algorithmen zum Beschleungigen (-> App mit milvus schneller)\n",
    "# Vector size\n",
    "# Welche similarity function bei welcher vector size"
   ]
  }
 ],
 "metadata": {
  "kernelspec": {
   "display_name": "goodreads-ss",
   "language": "python",
   "name": "goodreads-ss"
  },
  "language_info": {
   "codemirror_mode": {
    "name": "ipython",
    "version": 3
   },
   "file_extension": ".py",
   "mimetype": "text/x-python",
   "name": "python",
   "nbconvert_exporter": "python",
   "pygments_lexer": "ipython3",
   "version": "3.10.5"
  }
 },
 "nbformat": 4,
 "nbformat_minor": 5
}
